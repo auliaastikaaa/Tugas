{
  "nbformat": 4,
  "nbformat_minor": 5,
  "metadata": {
    "kernelspec": {
      "display_name": "Python 3",
      "language": "python",
      "name": "python3"
    },
    "language_info": {
      "codemirror_mode": {
        "name": "ipython",
        "version": 3
      },
      "file_extension": ".py",
      "mimetype": "text/x-python",
      "name": "python",
      "nbconvert_exporter": "python",
      "pygments_lexer": "ipython3",
      "version": "3.8.8"
    },
    "colab": {
      "name": "TugasKapSel1.ipynb",
      "provenance": [],
      "collapsed_sections": [
        "be0e6775",
        "17f81e36",
        "d85a20d4",
        "NEJjEZiB5KDq"
      ]
    }
  },
  "cells": [
    {
      "cell_type": "markdown",
      "metadata": {
        "id": "8aae5ecf"
      },
      "source": [
        "\n",
        "# Install & Import Library "
      ],
      "id": "8aae5ecf"
    },
    {
      "cell_type": "code",
      "metadata": {
        "colab": {
          "base_uri": "https://localhost:8080/"
        },
        "id": "S3sobbPDWVJz",
        "outputId": "0de909a4-a6c1-46a9-a11f-ac8f1c4ab3e8"
      },
      "source": [
        "!git clone https://github.com/auliaastikaaa/TugasKapsel1"
      ],
      "id": "S3sobbPDWVJz",
      "execution_count": 1,
      "outputs": [
        {
          "output_type": "stream",
          "name": "stdout",
          "text": [
            "Cloning into 'TugasKapsel1'...\n",
            "remote: Enumerating objects: 56, done.\u001b[K\n",
            "remote: Counting objects: 100% (56/56), done.\u001b[K\n",
            "remote: Compressing objects: 100% (50/50), done.\u001b[K\n",
            "remote: Total 56 (delta 13), reused 13 (delta 2), pack-reused 0\u001b[K\n",
            "Unpacking objects: 100% (56/56), done.\n"
          ]
        }
      ]
    },
    {
      "cell_type": "code",
      "metadata": {
        "id": "e085e45e",
        "colab": {
          "base_uri": "https://localhost:8080/"
        },
        "outputId": "579ba440-0df5-45ca-e6c8-154f563686d4"
      },
      "source": [
        "!mkdir data\n",
        "!wget -P data/ https://raw.githubusercontent.com/taudata-indonesia/eLearning/master/data/slang.txt\n",
        "!wget -P data/ https://raw.githubusercontent.com/taudata-indonesia/eLearning/master/data/stopwords_id.txt\n",
        "!wget -P data/ https://raw.githubusercontent.com/taudata-indonesia/eLearning/master/data/corpus_sederhana.txt\n",
        "!wget -P / https://raw.githubusercontent.com/taudata-indonesia/eLearning/master/lib/taudataNlpTm.py\n",
        "!pip install unidecode textblob sastrawi\n",
        "!pip install unidecode twython tweepy beautifulsoup4 tika\n",
        "!pip install spacy python-crfsuite unidecode textblob sastrawi\n",
        "!python -m spacy download en\n",
        "!python -m spacy download xx\n",
        "!python -m spacy download en_core_web_sm"
      ],
      "id": "e085e45e",
      "execution_count": 14,
      "outputs": [
        {
          "output_type": "stream",
          "name": "stdout",
          "text": [
            "--2021-11-01 21:11:48--  https://raw.githubusercontent.com/taudata-indonesia/eLearning/master/data/slang.txt\n",
            "Resolving raw.githubusercontent.com (raw.githubusercontent.com)... 185.199.108.133, 185.199.109.133, 185.199.110.133, ...\n",
            "Connecting to raw.githubusercontent.com (raw.githubusercontent.com)|185.199.108.133|:443... connected.\n",
            "HTTP request sent, awaiting response... 200 OK\n",
            "Length: 29041 (28K) [text/plain]\n",
            "Saving to: ‘data/slang.txt’\n",
            "\n",
            "\rslang.txt             0%[                    ]       0  --.-KB/s               \rslang.txt           100%[===================>]  28.36K  --.-KB/s    in 0s      \n",
            "\n",
            "2021-11-01 21:11:48 (107 MB/s) - ‘data/slang.txt’ saved [29041/29041]\n",
            "\n",
            "--2021-11-01 21:11:48--  https://raw.githubusercontent.com/taudata-indonesia/eLearning/master/data/stopwords_id.txt\n",
            "Resolving raw.githubusercontent.com (raw.githubusercontent.com)... 185.199.108.133, 185.199.109.133, 185.199.110.133, ...\n",
            "Connecting to raw.githubusercontent.com (raw.githubusercontent.com)|185.199.108.133|:443... connected.\n",
            "HTTP request sent, awaiting response... 200 OK\n",
            "Length: 6446 (6.3K) [text/plain]\n",
            "Saving to: ‘data/stopwords_id.txt’\n",
            "\n",
            "stopwords_id.txt    100%[===================>]   6.29K  --.-KB/s    in 0s      \n",
            "\n",
            "2021-11-01 21:11:48 (54.4 MB/s) - ‘data/stopwords_id.txt’ saved [6446/6446]\n",
            "\n",
            "--2021-11-01 21:11:48--  https://raw.githubusercontent.com/taudata-indonesia/eLearning/master/data/corpus_sederhana.txt\n",
            "Resolving raw.githubusercontent.com (raw.githubusercontent.com)... 185.199.108.133, 185.199.109.133, 185.199.110.133, ...\n",
            "Connecting to raw.githubusercontent.com (raw.githubusercontent.com)|185.199.108.133|:443... connected.\n",
            "HTTP request sent, awaiting response... 200 OK\n",
            "Length: 316963 (310K) [text/plain]\n",
            "Saving to: ‘data/corpus_sederhana.txt’\n",
            "\n",
            "corpus_sederhana.tx 100%[===================>] 309.53K  --.-KB/s    in 0.004s  \n",
            "\n",
            "2021-11-01 21:11:48 (80.6 MB/s) - ‘data/corpus_sederhana.txt’ saved [316963/316963]\n",
            "\n",
            "--2021-11-01 21:11:49--  https://raw.githubusercontent.com/taudata-indonesia/eLearning/master/lib/taudataNlpTm.py\n",
            "Resolving raw.githubusercontent.com (raw.githubusercontent.com)... 185.199.108.133, 185.199.109.133, 185.199.110.133, ...\n",
            "Connecting to raw.githubusercontent.com (raw.githubusercontent.com)|185.199.108.133|:443... connected.\n",
            "HTTP request sent, awaiting response... 200 OK\n",
            "Length: 5686 (5.6K) [text/plain]\n",
            "Saving to: ‘taudataNlpTm.py’\n",
            "\n",
            "audataNlpTm.py      100%[===================>]   5.55K  --.-KB/s    in 0s      \n",
            "\n",
            "2021-11-01 21:11:49 (60.6 MB/s) - ‘taudataNlpTm.py’ saved [5686/5686]\n",
            "\n",
            "Collecting unidecode\n",
            "  Downloading Unidecode-1.3.2-py3-none-any.whl (235 kB)\n",
            "\u001b[K     |████████████████████████████████| 235 kB 27.5 MB/s \n",
            "\u001b[?25hRequirement already satisfied: textblob in /usr/local/lib/python3.7/dist-packages (0.15.3)\n",
            "Collecting sastrawi\n",
            "  Downloading Sastrawi-1.0.1-py2.py3-none-any.whl (209 kB)\n",
            "\u001b[K     |████████████████████████████████| 209 kB 52.7 MB/s \n",
            "\u001b[?25hRequirement already satisfied: nltk>=3.1 in /usr/local/lib/python3.7/dist-packages (from textblob) (3.2.5)\n",
            "Requirement already satisfied: six in /usr/local/lib/python3.7/dist-packages (from nltk>=3.1->textblob) (1.15.0)\n",
            "Installing collected packages: unidecode, sastrawi\n",
            "Successfully installed sastrawi-1.0.1 unidecode-1.3.2\n",
            "Requirement already satisfied: unidecode in /usr/local/lib/python3.7/dist-packages (1.3.2)\n",
            "Collecting twython\n",
            "  Downloading twython-3.9.1-py3-none-any.whl (33 kB)\n",
            "Requirement already satisfied: tweepy in /usr/local/lib/python3.7/dist-packages (3.10.0)\n",
            "Requirement already satisfied: beautifulsoup4 in /usr/local/lib/python3.7/dist-packages (4.6.3)\n",
            "Collecting tika\n",
            "  Downloading tika-1.24.tar.gz (28 kB)\n",
            "Requirement already satisfied: requests-oauthlib>=0.4.0 in /usr/local/lib/python3.7/dist-packages (from twython) (1.3.0)\n",
            "Requirement already satisfied: requests>=2.1.0 in /usr/local/lib/python3.7/dist-packages (from twython) (2.23.0)\n",
            "Requirement already satisfied: chardet<4,>=3.0.2 in /usr/local/lib/python3.7/dist-packages (from requests>=2.1.0->twython) (3.0.4)\n",
            "Requirement already satisfied: urllib3!=1.25.0,!=1.25.1,<1.26,>=1.21.1 in /usr/local/lib/python3.7/dist-packages (from requests>=2.1.0->twython) (1.24.3)\n",
            "Requirement already satisfied: idna<3,>=2.5 in /usr/local/lib/python3.7/dist-packages (from requests>=2.1.0->twython) (2.10)\n",
            "Requirement already satisfied: certifi>=2017.4.17 in /usr/local/lib/python3.7/dist-packages (from requests>=2.1.0->twython) (2021.5.30)\n",
            "Requirement already satisfied: oauthlib>=3.0.0 in /usr/local/lib/python3.7/dist-packages (from requests-oauthlib>=0.4.0->twython) (3.1.1)\n",
            "Requirement already satisfied: six>=1.10.0 in /usr/local/lib/python3.7/dist-packages (from tweepy) (1.15.0)\n",
            "Requirement already satisfied: PySocks!=1.5.7,>=1.5.6 in /usr/local/lib/python3.7/dist-packages (from requests>=2.1.0->twython) (1.7.1)\n",
            "Requirement already satisfied: setuptools in /usr/local/lib/python3.7/dist-packages (from tika) (57.4.0)\n",
            "Building wheels for collected packages: tika\n",
            "  Building wheel for tika (setup.py) ... \u001b[?25l\u001b[?25hdone\n",
            "  Created wheel for tika: filename=tika-1.24-py3-none-any.whl size=32891 sha256=5c7a51957a8262aef036e5445bb73b66060d4c0374ae0a17f6f0e0a9d8f7d35d\n",
            "  Stored in directory: /root/.cache/pip/wheels/ec/2b/38/58ff05467a742e32f67f5d0de048fa046e764e2fbb25ac93f3\n",
            "Successfully built tika\n",
            "Installing collected packages: twython, tika\n",
            "Successfully installed tika-1.24 twython-3.9.1\n",
            "Requirement already satisfied: spacy in /usr/local/lib/python3.7/dist-packages (2.2.4)\n",
            "Collecting python-crfsuite\n",
            "  Downloading python_crfsuite-0.9.7-cp37-cp37m-manylinux1_x86_64.whl (743 kB)\n",
            "\u001b[K     |████████████████████████████████| 743 kB 30.9 MB/s \n",
            "\u001b[?25hRequirement already satisfied: unidecode in /usr/local/lib/python3.7/dist-packages (1.3.2)\n",
            "Requirement already satisfied: textblob in /usr/local/lib/python3.7/dist-packages (0.15.3)\n",
            "Requirement already satisfied: sastrawi in /usr/local/lib/python3.7/dist-packages (1.0.1)\n",
            "Requirement already satisfied: numpy>=1.15.0 in /usr/local/lib/python3.7/dist-packages (from spacy) (1.19.5)\n",
            "Requirement already satisfied: setuptools in /usr/local/lib/python3.7/dist-packages (from spacy) (57.4.0)\n",
            "Requirement already satisfied: blis<0.5.0,>=0.4.0 in /usr/local/lib/python3.7/dist-packages (from spacy) (0.4.1)\n",
            "Requirement already satisfied: requests<3.0.0,>=2.13.0 in /usr/local/lib/python3.7/dist-packages (from spacy) (2.23.0)\n",
            "Requirement already satisfied: srsly<1.1.0,>=1.0.2 in /usr/local/lib/python3.7/dist-packages (from spacy) (1.0.5)\n",
            "Requirement already satisfied: thinc==7.4.0 in /usr/local/lib/python3.7/dist-packages (from spacy) (7.4.0)\n",
            "Requirement already satisfied: preshed<3.1.0,>=3.0.2 in /usr/local/lib/python3.7/dist-packages (from spacy) (3.0.5)\n",
            "Requirement already satisfied: tqdm<5.0.0,>=4.38.0 in /usr/local/lib/python3.7/dist-packages (from spacy) (4.62.3)\n",
            "Requirement already satisfied: murmurhash<1.1.0,>=0.28.0 in /usr/local/lib/python3.7/dist-packages (from spacy) (1.0.5)\n",
            "Requirement already satisfied: plac<1.2.0,>=0.9.6 in /usr/local/lib/python3.7/dist-packages (from spacy) (1.1.3)\n",
            "Requirement already satisfied: wasabi<1.1.0,>=0.4.0 in /usr/local/lib/python3.7/dist-packages (from spacy) (0.8.2)\n",
            "Requirement already satisfied: cymem<2.1.0,>=2.0.2 in /usr/local/lib/python3.7/dist-packages (from spacy) (2.0.5)\n",
            "Requirement already satisfied: catalogue<1.1.0,>=0.0.7 in /usr/local/lib/python3.7/dist-packages (from spacy) (1.0.0)\n",
            "Requirement already satisfied: importlib-metadata>=0.20 in /usr/local/lib/python3.7/dist-packages (from catalogue<1.1.0,>=0.0.7->spacy) (4.8.1)\n",
            "Requirement already satisfied: typing-extensions>=3.6.4 in /usr/local/lib/python3.7/dist-packages (from importlib-metadata>=0.20->catalogue<1.1.0,>=0.0.7->spacy) (3.7.4.3)\n",
            "Requirement already satisfied: zipp>=0.5 in /usr/local/lib/python3.7/dist-packages (from importlib-metadata>=0.20->catalogue<1.1.0,>=0.0.7->spacy) (3.6.0)\n",
            "Requirement already satisfied: chardet<4,>=3.0.2 in /usr/local/lib/python3.7/dist-packages (from requests<3.0.0,>=2.13.0->spacy) (3.0.4)\n",
            "Requirement already satisfied: urllib3!=1.25.0,!=1.25.1,<1.26,>=1.21.1 in /usr/local/lib/python3.7/dist-packages (from requests<3.0.0,>=2.13.0->spacy) (1.24.3)\n",
            "Requirement already satisfied: certifi>=2017.4.17 in /usr/local/lib/python3.7/dist-packages (from requests<3.0.0,>=2.13.0->spacy) (2021.5.30)\n",
            "Requirement already satisfied: idna<3,>=2.5 in /usr/local/lib/python3.7/dist-packages (from requests<3.0.0,>=2.13.0->spacy) (2.10)\n",
            "Requirement already satisfied: nltk>=3.1 in /usr/local/lib/python3.7/dist-packages (from textblob) (3.2.5)\n",
            "Requirement already satisfied: six in /usr/local/lib/python3.7/dist-packages (from nltk>=3.1->textblob) (1.15.0)\n",
            "Installing collected packages: python-crfsuite\n",
            "Successfully installed python-crfsuite-0.9.7\n",
            "Collecting en_core_web_sm==2.2.5\n",
            "  Downloading https://github.com/explosion/spacy-models/releases/download/en_core_web_sm-2.2.5/en_core_web_sm-2.2.5.tar.gz (12.0 MB)\n",
            "\u001b[K     |████████████████████████████████| 12.0 MB 26.0 MB/s \n",
            "\u001b[?25hRequirement already satisfied: spacy>=2.2.2 in /usr/local/lib/python3.7/dist-packages (from en_core_web_sm==2.2.5) (2.2.4)\n",
            "Requirement already satisfied: wasabi<1.1.0,>=0.4.0 in /usr/local/lib/python3.7/dist-packages (from spacy>=2.2.2->en_core_web_sm==2.2.5) (0.8.2)\n",
            "Requirement already satisfied: srsly<1.1.0,>=1.0.2 in /usr/local/lib/python3.7/dist-packages (from spacy>=2.2.2->en_core_web_sm==2.2.5) (1.0.5)\n",
            "Requirement already satisfied: setuptools in /usr/local/lib/python3.7/dist-packages (from spacy>=2.2.2->en_core_web_sm==2.2.5) (57.4.0)\n",
            "Requirement already satisfied: numpy>=1.15.0 in /usr/local/lib/python3.7/dist-packages (from spacy>=2.2.2->en_core_web_sm==2.2.5) (1.19.5)\n",
            "Requirement already satisfied: thinc==7.4.0 in /usr/local/lib/python3.7/dist-packages (from spacy>=2.2.2->en_core_web_sm==2.2.5) (7.4.0)\n",
            "Requirement already satisfied: tqdm<5.0.0,>=4.38.0 in /usr/local/lib/python3.7/dist-packages (from spacy>=2.2.2->en_core_web_sm==2.2.5) (4.62.3)\n",
            "Requirement already satisfied: plac<1.2.0,>=0.9.6 in /usr/local/lib/python3.7/dist-packages (from spacy>=2.2.2->en_core_web_sm==2.2.5) (1.1.3)\n",
            "Requirement already satisfied: blis<0.5.0,>=0.4.0 in /usr/local/lib/python3.7/dist-packages (from spacy>=2.2.2->en_core_web_sm==2.2.5) (0.4.1)\n",
            "Requirement already satisfied: requests<3.0.0,>=2.13.0 in /usr/local/lib/python3.7/dist-packages (from spacy>=2.2.2->en_core_web_sm==2.2.5) (2.23.0)\n",
            "Requirement already satisfied: cymem<2.1.0,>=2.0.2 in /usr/local/lib/python3.7/dist-packages (from spacy>=2.2.2->en_core_web_sm==2.2.5) (2.0.5)\n",
            "Requirement already satisfied: catalogue<1.1.0,>=0.0.7 in /usr/local/lib/python3.7/dist-packages (from spacy>=2.2.2->en_core_web_sm==2.2.5) (1.0.0)\n",
            "Requirement already satisfied: murmurhash<1.1.0,>=0.28.0 in /usr/local/lib/python3.7/dist-packages (from spacy>=2.2.2->en_core_web_sm==2.2.5) (1.0.5)\n",
            "Requirement already satisfied: preshed<3.1.0,>=3.0.2 in /usr/local/lib/python3.7/dist-packages (from spacy>=2.2.2->en_core_web_sm==2.2.5) (3.0.5)\n",
            "Requirement already satisfied: importlib-metadata>=0.20 in /usr/local/lib/python3.7/dist-packages (from catalogue<1.1.0,>=0.0.7->spacy>=2.2.2->en_core_web_sm==2.2.5) (4.8.1)\n",
            "Requirement already satisfied: zipp>=0.5 in /usr/local/lib/python3.7/dist-packages (from importlib-metadata>=0.20->catalogue<1.1.0,>=0.0.7->spacy>=2.2.2->en_core_web_sm==2.2.5) (3.6.0)\n",
            "Requirement already satisfied: typing-extensions>=3.6.4 in /usr/local/lib/python3.7/dist-packages (from importlib-metadata>=0.20->catalogue<1.1.0,>=0.0.7->spacy>=2.2.2->en_core_web_sm==2.2.5) (3.7.4.3)\n",
            "Requirement already satisfied: urllib3!=1.25.0,!=1.25.1,<1.26,>=1.21.1 in /usr/local/lib/python3.7/dist-packages (from requests<3.0.0,>=2.13.0->spacy>=2.2.2->en_core_web_sm==2.2.5) (1.24.3)\n",
            "Requirement already satisfied: certifi>=2017.4.17 in /usr/local/lib/python3.7/dist-packages (from requests<3.0.0,>=2.13.0->spacy>=2.2.2->en_core_web_sm==2.2.5) (2021.5.30)\n",
            "Requirement already satisfied: idna<3,>=2.5 in /usr/local/lib/python3.7/dist-packages (from requests<3.0.0,>=2.13.0->spacy>=2.2.2->en_core_web_sm==2.2.5) (2.10)\n",
            "Requirement already satisfied: chardet<4,>=3.0.2 in /usr/local/lib/python3.7/dist-packages (from requests<3.0.0,>=2.13.0->spacy>=2.2.2->en_core_web_sm==2.2.5) (3.0.4)\n",
            "\u001b[38;5;2m✔ Download and installation successful\u001b[0m\n",
            "You can now load the model via spacy.load('en_core_web_sm')\n",
            "\u001b[38;5;2m✔ Linking successful\u001b[0m\n",
            "/usr/local/lib/python3.7/dist-packages/en_core_web_sm -->\n",
            "/usr/local/lib/python3.7/dist-packages/spacy/data/en\n",
            "You can now load the model via spacy.load('en')\n",
            "Collecting xx_ent_wiki_sm==2.2.0\n",
            "  Downloading https://github.com/explosion/spacy-models/releases/download/xx_ent_wiki_sm-2.2.0/xx_ent_wiki_sm-2.2.0.tar.gz (3.7 MB)\n",
            "\u001b[K     |████████████████████████████████| 3.7 MB 14.5 MB/s \n",
            "\u001b[?25hRequirement already satisfied: spacy>=2.2.0 in /usr/local/lib/python3.7/dist-packages (from xx_ent_wiki_sm==2.2.0) (2.2.4)\n",
            "Requirement already satisfied: numpy>=1.15.0 in /usr/local/lib/python3.7/dist-packages (from spacy>=2.2.0->xx_ent_wiki_sm==2.2.0) (1.19.5)\n",
            "Requirement already satisfied: catalogue<1.1.0,>=0.0.7 in /usr/local/lib/python3.7/dist-packages (from spacy>=2.2.0->xx_ent_wiki_sm==2.2.0) (1.0.0)\n",
            "Requirement already satisfied: cymem<2.1.0,>=2.0.2 in /usr/local/lib/python3.7/dist-packages (from spacy>=2.2.0->xx_ent_wiki_sm==2.2.0) (2.0.5)\n",
            "Requirement already satisfied: requests<3.0.0,>=2.13.0 in /usr/local/lib/python3.7/dist-packages (from spacy>=2.2.0->xx_ent_wiki_sm==2.2.0) (2.23.0)\n",
            "Requirement already satisfied: murmurhash<1.1.0,>=0.28.0 in /usr/local/lib/python3.7/dist-packages (from spacy>=2.2.0->xx_ent_wiki_sm==2.2.0) (1.0.5)\n",
            "Requirement already satisfied: srsly<1.1.0,>=1.0.2 in /usr/local/lib/python3.7/dist-packages (from spacy>=2.2.0->xx_ent_wiki_sm==2.2.0) (1.0.5)\n",
            "Requirement already satisfied: plac<1.2.0,>=0.9.6 in /usr/local/lib/python3.7/dist-packages (from spacy>=2.2.0->xx_ent_wiki_sm==2.2.0) (1.1.3)\n",
            "Requirement already satisfied: thinc==7.4.0 in /usr/local/lib/python3.7/dist-packages (from spacy>=2.2.0->xx_ent_wiki_sm==2.2.0) (7.4.0)\n",
            "Requirement already satisfied: blis<0.5.0,>=0.4.0 in /usr/local/lib/python3.7/dist-packages (from spacy>=2.2.0->xx_ent_wiki_sm==2.2.0) (0.4.1)\n",
            "Requirement already satisfied: setuptools in /usr/local/lib/python3.7/dist-packages (from spacy>=2.2.0->xx_ent_wiki_sm==2.2.0) (57.4.0)\n",
            "Requirement already satisfied: tqdm<5.0.0,>=4.38.0 in /usr/local/lib/python3.7/dist-packages (from spacy>=2.2.0->xx_ent_wiki_sm==2.2.0) (4.62.3)\n",
            "Requirement already satisfied: preshed<3.1.0,>=3.0.2 in /usr/local/lib/python3.7/dist-packages (from spacy>=2.2.0->xx_ent_wiki_sm==2.2.0) (3.0.5)\n",
            "Requirement already satisfied: wasabi<1.1.0,>=0.4.0 in /usr/local/lib/python3.7/dist-packages (from spacy>=2.2.0->xx_ent_wiki_sm==2.2.0) (0.8.2)\n",
            "Requirement already satisfied: importlib-metadata>=0.20 in /usr/local/lib/python3.7/dist-packages (from catalogue<1.1.0,>=0.0.7->spacy>=2.2.0->xx_ent_wiki_sm==2.2.0) (4.8.1)\n",
            "Requirement already satisfied: zipp>=0.5 in /usr/local/lib/python3.7/dist-packages (from importlib-metadata>=0.20->catalogue<1.1.0,>=0.0.7->spacy>=2.2.0->xx_ent_wiki_sm==2.2.0) (3.6.0)\n",
            "Requirement already satisfied: typing-extensions>=3.6.4 in /usr/local/lib/python3.7/dist-packages (from importlib-metadata>=0.20->catalogue<1.1.0,>=0.0.7->spacy>=2.2.0->xx_ent_wiki_sm==2.2.0) (3.7.4.3)\n",
            "Requirement already satisfied: urllib3!=1.25.0,!=1.25.1,<1.26,>=1.21.1 in /usr/local/lib/python3.7/dist-packages (from requests<3.0.0,>=2.13.0->spacy>=2.2.0->xx_ent_wiki_sm==2.2.0) (1.24.3)\n",
            "Requirement already satisfied: chardet<4,>=3.0.2 in /usr/local/lib/python3.7/dist-packages (from requests<3.0.0,>=2.13.0->spacy>=2.2.0->xx_ent_wiki_sm==2.2.0) (3.0.4)\n",
            "Requirement already satisfied: certifi>=2017.4.17 in /usr/local/lib/python3.7/dist-packages (from requests<3.0.0,>=2.13.0->spacy>=2.2.0->xx_ent_wiki_sm==2.2.0) (2021.5.30)\n",
            "Requirement already satisfied: idna<3,>=2.5 in /usr/local/lib/python3.7/dist-packages (from requests<3.0.0,>=2.13.0->spacy>=2.2.0->xx_ent_wiki_sm==2.2.0) (2.10)\n",
            "Building wheels for collected packages: xx-ent-wiki-sm\n",
            "  Building wheel for xx-ent-wiki-sm (setup.py) ... \u001b[?25l\u001b[?25hdone\n",
            "  Created wheel for xx-ent-wiki-sm: filename=xx_ent_wiki_sm-2.2.0-py3-none-any.whl size=3732134 sha256=99fbce07f16b836c7a2bd52b8452832ee4abfa42c98311e52e05dfdccf53fd07\n",
            "  Stored in directory: /tmp/pip-ephem-wheel-cache-l_s8vhu1/wheels/87/31/20/7f7576bcd0b6ee9c7056c60e28d9e6a40143c553cb5fecc9e2\n",
            "Successfully built xx-ent-wiki-sm\n",
            "Installing collected packages: xx-ent-wiki-sm\n",
            "Successfully installed xx-ent-wiki-sm-2.2.0\n",
            "\u001b[38;5;2m✔ Download and installation successful\u001b[0m\n",
            "You can now load the model via spacy.load('xx_ent_wiki_sm')\n",
            "\u001b[38;5;2m✔ Linking successful\u001b[0m\n",
            "/usr/local/lib/python3.7/dist-packages/xx_ent_wiki_sm -->\n",
            "/usr/local/lib/python3.7/dist-packages/spacy/data/xx\n",
            "You can now load the model via spacy.load('xx')\n",
            "Collecting en_core_web_sm==2.2.5\n",
            "  Downloading https://github.com/explosion/spacy-models/releases/download/en_core_web_sm-2.2.5/en_core_web_sm-2.2.5.tar.gz (12.0 MB)\n",
            "\u001b[K     |████████████████████████████████| 12.0 MB 31.2 MB/s \n",
            "\u001b[?25hRequirement already satisfied: spacy>=2.2.2 in /usr/local/lib/python3.7/dist-packages (from en_core_web_sm==2.2.5) (2.2.4)\n",
            "Requirement already satisfied: tqdm<5.0.0,>=4.38.0 in /usr/local/lib/python3.7/dist-packages (from spacy>=2.2.2->en_core_web_sm==2.2.5) (4.62.3)\n",
            "Requirement already satisfied: preshed<3.1.0,>=3.0.2 in /usr/local/lib/python3.7/dist-packages (from spacy>=2.2.2->en_core_web_sm==2.2.5) (3.0.5)\n",
            "Requirement already satisfied: setuptools in /usr/local/lib/python3.7/dist-packages (from spacy>=2.2.2->en_core_web_sm==2.2.5) (57.4.0)\n",
            "Requirement already satisfied: cymem<2.1.0,>=2.0.2 in /usr/local/lib/python3.7/dist-packages (from spacy>=2.2.2->en_core_web_sm==2.2.5) (2.0.5)\n",
            "Requirement already satisfied: plac<1.2.0,>=0.9.6 in /usr/local/lib/python3.7/dist-packages (from spacy>=2.2.2->en_core_web_sm==2.2.5) (1.1.3)\n",
            "Requirement already satisfied: requests<3.0.0,>=2.13.0 in /usr/local/lib/python3.7/dist-packages (from spacy>=2.2.2->en_core_web_sm==2.2.5) (2.23.0)\n",
            "Requirement already satisfied: catalogue<1.1.0,>=0.0.7 in /usr/local/lib/python3.7/dist-packages (from spacy>=2.2.2->en_core_web_sm==2.2.5) (1.0.0)\n",
            "Requirement already satisfied: numpy>=1.15.0 in /usr/local/lib/python3.7/dist-packages (from spacy>=2.2.2->en_core_web_sm==2.2.5) (1.19.5)\n",
            "Requirement already satisfied: blis<0.5.0,>=0.4.0 in /usr/local/lib/python3.7/dist-packages (from spacy>=2.2.2->en_core_web_sm==2.2.5) (0.4.1)\n",
            "Requirement already satisfied: srsly<1.1.0,>=1.0.2 in /usr/local/lib/python3.7/dist-packages (from spacy>=2.2.2->en_core_web_sm==2.2.5) (1.0.5)\n",
            "Requirement already satisfied: wasabi<1.1.0,>=0.4.0 in /usr/local/lib/python3.7/dist-packages (from spacy>=2.2.2->en_core_web_sm==2.2.5) (0.8.2)\n",
            "Requirement already satisfied: murmurhash<1.1.0,>=0.28.0 in /usr/local/lib/python3.7/dist-packages (from spacy>=2.2.2->en_core_web_sm==2.2.5) (1.0.5)\n",
            "Requirement already satisfied: thinc==7.4.0 in /usr/local/lib/python3.7/dist-packages (from spacy>=2.2.2->en_core_web_sm==2.2.5) (7.4.0)\n",
            "Requirement already satisfied: importlib-metadata>=0.20 in /usr/local/lib/python3.7/dist-packages (from catalogue<1.1.0,>=0.0.7->spacy>=2.2.2->en_core_web_sm==2.2.5) (4.8.1)\n",
            "Requirement already satisfied: zipp>=0.5 in /usr/local/lib/python3.7/dist-packages (from importlib-metadata>=0.20->catalogue<1.1.0,>=0.0.7->spacy>=2.2.2->en_core_web_sm==2.2.5) (3.6.0)\n",
            "Requirement already satisfied: typing-extensions>=3.6.4 in /usr/local/lib/python3.7/dist-packages (from importlib-metadata>=0.20->catalogue<1.1.0,>=0.0.7->spacy>=2.2.2->en_core_web_sm==2.2.5) (3.7.4.3)\n",
            "Requirement already satisfied: certifi>=2017.4.17 in /usr/local/lib/python3.7/dist-packages (from requests<3.0.0,>=2.13.0->spacy>=2.2.2->en_core_web_sm==2.2.5) (2021.5.30)\n",
            "Requirement already satisfied: chardet<4,>=3.0.2 in /usr/local/lib/python3.7/dist-packages (from requests<3.0.0,>=2.13.0->spacy>=2.2.2->en_core_web_sm==2.2.5) (3.0.4)\n",
            "Requirement already satisfied: urllib3!=1.25.0,!=1.25.1,<1.26,>=1.21.1 in /usr/local/lib/python3.7/dist-packages (from requests<3.0.0,>=2.13.0->spacy>=2.2.2->en_core_web_sm==2.2.5) (1.24.3)\n",
            "Requirement already satisfied: idna<3,>=2.5 in /usr/local/lib/python3.7/dist-packages (from requests<3.0.0,>=2.13.0->spacy>=2.2.2->en_core_web_sm==2.2.5) (2.10)\n",
            "\u001b[38;5;2m✔ Download and installation successful\u001b[0m\n",
            "You can now load the model via spacy.load('en_core_web_sm')\n"
          ]
        }
      ]
    },
    {
      "cell_type": "code",
      "metadata": {
        "id": "ed3d0ce4",
        "colab": {
          "base_uri": "https://localhost:8080/"
        },
        "outputId": "c707e426-33f2-4822-c475-5075e6b0db17"
      },
      "source": [
        "import pandas as pd\n",
        "import numpy as np\n",
        "import warnings; warnings.simplefilter('ignore')\n",
        "import tweepy, json, nltk, urllib.request, requests, re\n",
        "from urllib.request import Request, urlopen\n",
        "from bs4 import BeautifulSoup as bs\n",
        "from nltk.tokenize import TweetTokenizer\n",
        "from Sastrawi.StopWordRemover.StopWordRemoverFactory import StopWordRemoverFactory\n",
        "from Sastrawi.Stemmer.StemmerFactory import StemmerFactory\n",
        "\n",
        "nltk.download('popular')\n",
        "nltk.download('punkt')"
      ],
      "id": "ed3d0ce4",
      "execution_count": 15,
      "outputs": [
        {
          "output_type": "stream",
          "name": "stdout",
          "text": [
            "[nltk_data] Downloading collection 'popular'\n",
            "[nltk_data]    | \n",
            "[nltk_data]    | Downloading package cmudict to /root/nltk_data...\n",
            "[nltk_data]    |   Unzipping corpora/cmudict.zip.\n",
            "[nltk_data]    | Downloading package gazetteers to /root/nltk_data...\n",
            "[nltk_data]    |   Unzipping corpora/gazetteers.zip.\n",
            "[nltk_data]    | Downloading package genesis to /root/nltk_data...\n",
            "[nltk_data]    |   Unzipping corpora/genesis.zip.\n",
            "[nltk_data]    | Downloading package gutenberg to /root/nltk_data...\n",
            "[nltk_data]    |   Unzipping corpora/gutenberg.zip.\n",
            "[nltk_data]    | Downloading package inaugural to /root/nltk_data...\n",
            "[nltk_data]    |   Unzipping corpora/inaugural.zip.\n",
            "[nltk_data]    | Downloading package movie_reviews to\n",
            "[nltk_data]    |     /root/nltk_data...\n",
            "[nltk_data]    |   Unzipping corpora/movie_reviews.zip.\n",
            "[nltk_data]    | Downloading package names to /root/nltk_data...\n",
            "[nltk_data]    |   Unzipping corpora/names.zip.\n",
            "[nltk_data]    | Downloading package shakespeare to /root/nltk_data...\n",
            "[nltk_data]    |   Unzipping corpora/shakespeare.zip.\n",
            "[nltk_data]    | Downloading package stopwords to /root/nltk_data...\n",
            "[nltk_data]    |   Unzipping corpora/stopwords.zip.\n",
            "[nltk_data]    | Downloading package treebank to /root/nltk_data...\n",
            "[nltk_data]    |   Unzipping corpora/treebank.zip.\n",
            "[nltk_data]    | Downloading package twitter_samples to\n",
            "[nltk_data]    |     /root/nltk_data...\n",
            "[nltk_data]    |   Unzipping corpora/twitter_samples.zip.\n",
            "[nltk_data]    | Downloading package omw to /root/nltk_data...\n",
            "[nltk_data]    |   Unzipping corpora/omw.zip.\n",
            "[nltk_data]    | Downloading package wordnet to /root/nltk_data...\n",
            "[nltk_data]    |   Unzipping corpora/wordnet.zip.\n",
            "[nltk_data]    | Downloading package wordnet31 to /root/nltk_data...\n",
            "[nltk_data]    |   Unzipping corpora/wordnet31.zip.\n",
            "[nltk_data]    | Downloading package wordnet_ic to /root/nltk_data...\n",
            "[nltk_data]    |   Unzipping corpora/wordnet_ic.zip.\n",
            "[nltk_data]    | Downloading package words to /root/nltk_data...\n",
            "[nltk_data]    |   Unzipping corpora/words.zip.\n",
            "[nltk_data]    | Downloading package maxent_ne_chunker to\n",
            "[nltk_data]    |     /root/nltk_data...\n",
            "[nltk_data]    |   Unzipping chunkers/maxent_ne_chunker.zip.\n",
            "[nltk_data]    | Downloading package punkt to /root/nltk_data...\n",
            "[nltk_data]    |   Unzipping tokenizers/punkt.zip.\n",
            "[nltk_data]    | Downloading package snowball_data to\n",
            "[nltk_data]    |     /root/nltk_data...\n",
            "[nltk_data]    | Downloading package averaged_perceptron_tagger to\n",
            "[nltk_data]    |     /root/nltk_data...\n",
            "[nltk_data]    |   Unzipping taggers/averaged_perceptron_tagger.zip.\n",
            "[nltk_data]    | \n",
            "[nltk_data]  Done downloading collection popular\n",
            "[nltk_data] Downloading package punkt to /root/nltk_data...\n",
            "[nltk_data]   Package punkt is already up-to-date!\n"
          ]
        },
        {
          "output_type": "execute_result",
          "data": {
            "text/plain": [
              "True"
            ]
          },
          "metadata": {},
          "execution_count": 15
        }
      ]
    },
    {
      "cell_type": "markdown",
      "metadata": {
        "id": "be0e6775"
      },
      "source": [
        "# Load Data Crawling"
      ],
      "id": "be0e6775"
    },
    {
      "cell_type": "markdown",
      "metadata": {
        "id": "80c294c8"
      },
      "source": [
        "Data telah dicrawling dengan keyword 'Antonsen'"
      ],
      "id": "80c294c8"
    },
    {
      "cell_type": "code",
      "metadata": {
        "id": "f9a45a74"
      },
      "source": [
        "def loadTweets(file='Tweets.json'):\n",
        "    f=open(file,encoding='utf-8', errors ='ignore', mode='r')\n",
        "    T=f.readlines();f.close()\n",
        "    for i,t in enumerate(T):\n",
        "        T[i] = json.loads(t.strip())\n",
        "    return T"
      ],
      "id": "f9a45a74",
      "execution_count": 16,
      "outputs": []
    },
    {
      "cell_type": "code",
      "metadata": {
        "id": "8de361ee"
      },
      "source": [
        "DT = loadTweets(file='/content/TugasKapsel1/Dataa/tweetskapsel1.json')\n",
        "DT2 = loadTweets(file='/content/TugasKapsel1/Dataa/tweetskapsell2.json')"
      ],
      "id": "8de361ee",
      "execution_count": 17,
      "outputs": []
    },
    {
      "cell_type": "code",
      "metadata": {
        "id": "49939e2c"
      },
      "source": [
        "data = DT + DT2"
      ],
      "id": "49939e2c",
      "execution_count": 18,
      "outputs": []
    },
    {
      "cell_type": "code",
      "metadata": {
        "id": "Z90PhwIcwX3Z"
      },
      "source": [
        "df=pd.DataFrame(data)"
      ],
      "id": "Z90PhwIcwX3Z",
      "execution_count": 19,
      "outputs": []
    },
    {
      "cell_type": "code",
      "metadata": {
        "colab": {
          "base_uri": "https://localhost:8080/",
          "height": 0
        },
        "id": "Lg83gIK1wcRv",
        "outputId": "fb421638-4113-4830-ab27-16beb3bc7978"
      },
      "source": [
        "df.head()"
      ],
      "id": "Lg83gIK1wcRv",
      "execution_count": 20,
      "outputs": [
        {
          "output_type": "execute_result",
          "data": {
            "text/html": [
              "<div>\n",
              "<style scoped>\n",
              "    .dataframe tbody tr th:only-of-type {\n",
              "        vertical-align: middle;\n",
              "    }\n",
              "\n",
              "    .dataframe tbody tr th {\n",
              "        vertical-align: top;\n",
              "    }\n",
              "\n",
              "    .dataframe thead th {\n",
              "        text-align: right;\n",
              "    }\n",
              "</style>\n",
              "<table border=\"1\" class=\"dataframe\">\n",
              "  <thead>\n",
              "    <tr style=\"text-align: right;\">\n",
              "      <th></th>\n",
              "      <th>created_at</th>\n",
              "      <th>id</th>\n",
              "      <th>id_str</th>\n",
              "      <th>full_text</th>\n",
              "      <th>truncated</th>\n",
              "      <th>display_text_range</th>\n",
              "      <th>entities</th>\n",
              "      <th>metadata</th>\n",
              "      <th>source</th>\n",
              "      <th>in_reply_to_status_id</th>\n",
              "      <th>in_reply_to_status_id_str</th>\n",
              "      <th>in_reply_to_user_id</th>\n",
              "      <th>in_reply_to_user_id_str</th>\n",
              "      <th>in_reply_to_screen_name</th>\n",
              "      <th>user</th>\n",
              "      <th>geo</th>\n",
              "      <th>coordinates</th>\n",
              "      <th>place</th>\n",
              "      <th>contributors</th>\n",
              "      <th>retweeted_status</th>\n",
              "      <th>is_quote_status</th>\n",
              "      <th>retweet_count</th>\n",
              "      <th>favorite_count</th>\n",
              "      <th>favorited</th>\n",
              "      <th>retweeted</th>\n",
              "      <th>lang</th>\n",
              "      <th>extended_entities</th>\n",
              "      <th>possibly_sensitive</th>\n",
              "      <th>quoted_status_id</th>\n",
              "      <th>quoted_status_id_str</th>\n",
              "      <th>quoted_status</th>\n",
              "    </tr>\n",
              "  </thead>\n",
              "  <tbody>\n",
              "    <tr>\n",
              "      <th>0</th>\n",
              "      <td>Sat Oct 16 18:48:56 +0000 2021</td>\n",
              "      <td>1449447282697334786</td>\n",
              "      <td>1449447282697334786</td>\n",
              "      <td>RT @ProfesorZubairi: Malam yang hebat untuk ko...</td>\n",
              "      <td>False</td>\n",
              "      <td>[0, 140]</td>\n",
              "      <td>{'hashtags': [], 'symbols': [], 'user_mentions...</td>\n",
              "      <td>{'iso_language_code': 'in', 'result_type': 're...</td>\n",
              "      <td>&lt;a href=\"http://twitter.com/download/android\" ...</td>\n",
              "      <td>NaN</td>\n",
              "      <td>None</td>\n",
              "      <td>NaN</td>\n",
              "      <td>None</td>\n",
              "      <td>None</td>\n",
              "      <td>{'id': 1122504780985712640, 'id_str': '1122504...</td>\n",
              "      <td>None</td>\n",
              "      <td>None</td>\n",
              "      <td>None</td>\n",
              "      <td>None</td>\n",
              "      <td>{'created_at': 'Sat Oct 16 16:04:36 +0000 2021...</td>\n",
              "      <td>False</td>\n",
              "      <td>113</td>\n",
              "      <td>0</td>\n",
              "      <td>False</td>\n",
              "      <td>False</td>\n",
              "      <td>in</td>\n",
              "      <td>NaN</td>\n",
              "      <td>NaN</td>\n",
              "      <td>NaN</td>\n",
              "      <td>NaN</td>\n",
              "      <td>NaN</td>\n",
              "    </tr>\n",
              "    <tr>\n",
              "      <th>1</th>\n",
              "      <td>Sat Oct 16 18:48:11 +0000 2021</td>\n",
              "      <td>1449447093567819786</td>\n",
              "      <td>1449447093567819786</td>\n",
              "      <td>RT @darqling: @BadmintonTalk Jojo keren banget...</td>\n",
              "      <td>False</td>\n",
              "      <td>[0, 131]</td>\n",
              "      <td>{'hashtags': [], 'symbols': [], 'user_mentions...</td>\n",
              "      <td>{'iso_language_code': 'in', 'result_type': 're...</td>\n",
              "      <td>&lt;a href=\"http://twitter.com/download/android\" ...</td>\n",
              "      <td>NaN</td>\n",
              "      <td>None</td>\n",
              "      <td>NaN</td>\n",
              "      <td>None</td>\n",
              "      <td>None</td>\n",
              "      <td>{'id': 1292609816972517376, 'id_str': '1292609...</td>\n",
              "      <td>None</td>\n",
              "      <td>None</td>\n",
              "      <td>None</td>\n",
              "      <td>None</td>\n",
              "      <td>{'created_at': 'Sat Oct 16 15:02:10 +0000 2021...</td>\n",
              "      <td>False</td>\n",
              "      <td>424</td>\n",
              "      <td>0</td>\n",
              "      <td>False</td>\n",
              "      <td>False</td>\n",
              "      <td>in</td>\n",
              "      <td>{'media': [{'id': 1449373346240479233, 'id_str...</td>\n",
              "      <td>False</td>\n",
              "      <td>NaN</td>\n",
              "      <td>NaN</td>\n",
              "      <td>NaN</td>\n",
              "    </tr>\n",
              "    <tr>\n",
              "      <th>2</th>\n",
              "      <td>Sat Oct 16 18:47:09 +0000 2021</td>\n",
              "      <td>1449446836276662277</td>\n",
              "      <td>1449446836276662277</td>\n",
              "      <td>RT @ananditamo: @BadmintonTalk Gws antonsen, g...</td>\n",
              "      <td>False</td>\n",
              "      <td>[0, 108]</td>\n",
              "      <td>{'hashtags': [], 'symbols': [], 'user_mentions...</td>\n",
              "      <td>{'iso_language_code': 'in', 'result_type': 're...</td>\n",
              "      <td>&lt;a href=\"http://twitter.com/download/android\" ...</td>\n",
              "      <td>NaN</td>\n",
              "      <td>None</td>\n",
              "      <td>NaN</td>\n",
              "      <td>None</td>\n",
              "      <td>None</td>\n",
              "      <td>{'id': 1292609816972517376, 'id_str': '1292609...</td>\n",
              "      <td>None</td>\n",
              "      <td>None</td>\n",
              "      <td>None</td>\n",
              "      <td>None</td>\n",
              "      <td>{'created_at': 'Sat Oct 16 15:02:55 +0000 2021...</td>\n",
              "      <td>False</td>\n",
              "      <td>43</td>\n",
              "      <td>0</td>\n",
              "      <td>False</td>\n",
              "      <td>False</td>\n",
              "      <td>in</td>\n",
              "      <td>{'media': [{'id': 1449390402058870786, 'id_str...</td>\n",
              "      <td>False</td>\n",
              "      <td>NaN</td>\n",
              "      <td>NaN</td>\n",
              "      <td>NaN</td>\n",
              "    </tr>\n",
              "    <tr>\n",
              "      <th>3</th>\n",
              "      <td>Sat Oct 16 18:46:40 +0000 2021</td>\n",
              "      <td>1449446712066535426</td>\n",
              "      <td>1449446712066535426</td>\n",
              "      <td>RT @eui__99: @BadmintonTalk Siapa sangka jojo ...</td>\n",
              "      <td>False</td>\n",
              "      <td>[0, 140]</td>\n",
              "      <td>{'hashtags': [], 'symbols': [], 'user_mentions...</td>\n",
              "      <td>{'iso_language_code': 'in', 'result_type': 're...</td>\n",
              "      <td>&lt;a href=\"http://twitter.com/download/android\" ...</td>\n",
              "      <td>NaN</td>\n",
              "      <td>None</td>\n",
              "      <td>NaN</td>\n",
              "      <td>None</td>\n",
              "      <td>None</td>\n",
              "      <td>{'id': 1427545346624741381, 'id_str': '1427545...</td>\n",
              "      <td>None</td>\n",
              "      <td>None</td>\n",
              "      <td>None</td>\n",
              "      <td>None</td>\n",
              "      <td>{'created_at': 'Sat Oct 16 14:53:18 +0000 2021...</td>\n",
              "      <td>False</td>\n",
              "      <td>731</td>\n",
              "      <td>0</td>\n",
              "      <td>False</td>\n",
              "      <td>False</td>\n",
              "      <td>in</td>\n",
              "      <td>NaN</td>\n",
              "      <td>NaN</td>\n",
              "      <td>NaN</td>\n",
              "      <td>NaN</td>\n",
              "      <td>NaN</td>\n",
              "    </tr>\n",
              "    <tr>\n",
              "      <th>4</th>\n",
              "      <td>Sat Oct 16 18:46:32 +0000 2021</td>\n",
              "      <td>1449446678575017989</td>\n",
              "      <td>1449446678575017989</td>\n",
              "      <td>RT @uchieletto: walaupun antonsen ditonton sm ...</td>\n",
              "      <td>False</td>\n",
              "      <td>[0, 125]</td>\n",
              "      <td>{'hashtags': [], 'symbols': [], 'user_mentions...</td>\n",
              "      <td>{'iso_language_code': 'in', 'result_type': 're...</td>\n",
              "      <td>&lt;a href=\"http://twitter.com/download/android\" ...</td>\n",
              "      <td>NaN</td>\n",
              "      <td>None</td>\n",
              "      <td>NaN</td>\n",
              "      <td>None</td>\n",
              "      <td>None</td>\n",
              "      <td>{'id': 919826689663713280, 'id_str': '91982668...</td>\n",
              "      <td>None</td>\n",
              "      <td>None</td>\n",
              "      <td>None</td>\n",
              "      <td>None</td>\n",
              "      <td>{'created_at': 'Sat Oct 16 14:59:58 +0000 2021...</td>\n",
              "      <td>False</td>\n",
              "      <td>12</td>\n",
              "      <td>0</td>\n",
              "      <td>False</td>\n",
              "      <td>False</td>\n",
              "      <td>in</td>\n",
              "      <td>{'media': [{'id': 1449389372953010182, 'id_str...</td>\n",
              "      <td>False</td>\n",
              "      <td>NaN</td>\n",
              "      <td>NaN</td>\n",
              "      <td>NaN</td>\n",
              "    </tr>\n",
              "  </tbody>\n",
              "</table>\n",
              "</div>"
            ],
            "text/plain": [
              "                       created_at  ...  quoted_status\n",
              "0  Sat Oct 16 18:48:56 +0000 2021  ...            NaN\n",
              "1  Sat Oct 16 18:48:11 +0000 2021  ...            NaN\n",
              "2  Sat Oct 16 18:47:09 +0000 2021  ...            NaN\n",
              "3  Sat Oct 16 18:46:40 +0000 2021  ...            NaN\n",
              "4  Sat Oct 16 18:46:32 +0000 2021  ...            NaN\n",
              "\n",
              "[5 rows x 31 columns]"
            ]
          },
          "metadata": {},
          "execution_count": 20
        }
      ]
    },
    {
      "cell_type": "code",
      "metadata": {
        "colab": {
          "base_uri": "https://localhost:8080/"
        },
        "id": "XzvCHzNAwibh",
        "outputId": "e366d84d-95a5-4297-da1d-0e1a3fcb4d0b"
      },
      "source": [
        "df.keys()"
      ],
      "id": "XzvCHzNAwibh",
      "execution_count": 21,
      "outputs": [
        {
          "output_type": "execute_result",
          "data": {
            "text/plain": [
              "Index(['created_at', 'id', 'id_str', 'full_text', 'truncated',\n",
              "       'display_text_range', 'entities', 'metadata', 'source',\n",
              "       'in_reply_to_status_id', 'in_reply_to_status_id_str',\n",
              "       'in_reply_to_user_id', 'in_reply_to_user_id_str',\n",
              "       'in_reply_to_screen_name', 'user', 'geo', 'coordinates', 'place',\n",
              "       'contributors', 'retweeted_status', 'is_quote_status', 'retweet_count',\n",
              "       'favorite_count', 'favorited', 'retweeted', 'lang', 'extended_entities',\n",
              "       'possibly_sensitive', 'quoted_status_id', 'quoted_status_id_str',\n",
              "       'quoted_status'],\n",
              "      dtype='object')"
            ]
          },
          "metadata": {},
          "execution_count": 21
        }
      ]
    },
    {
      "cell_type": "code",
      "metadata": {
        "colab": {
          "base_uri": "https://localhost:8080/"
        },
        "id": "sX7dvIxawlh4",
        "outputId": "94566846-ecb7-4dd8-865b-3a7c1dbadbbc"
      },
      "source": [
        "df.info()"
      ],
      "id": "sX7dvIxawlh4",
      "execution_count": 22,
      "outputs": [
        {
          "output_type": "stream",
          "name": "stdout",
          "text": [
            "<class 'pandas.core.frame.DataFrame'>\n",
            "RangeIndex: 33583 entries, 0 to 33582\n",
            "Data columns (total 31 columns):\n",
            " #   Column                     Non-Null Count  Dtype  \n",
            "---  ------                     --------------  -----  \n",
            " 0   created_at                 33583 non-null  object \n",
            " 1   id                         33583 non-null  int64  \n",
            " 2   id_str                     33583 non-null  object \n",
            " 3   full_text                  33583 non-null  object \n",
            " 4   truncated                  33583 non-null  bool   \n",
            " 5   display_text_range         33583 non-null  object \n",
            " 6   entities                   33583 non-null  object \n",
            " 7   metadata                   33583 non-null  object \n",
            " 8   source                     33583 non-null  object \n",
            " 9   in_reply_to_status_id      4505 non-null   float64\n",
            " 10  in_reply_to_status_id_str  4505 non-null   object \n",
            " 11  in_reply_to_user_id        4512 non-null   float64\n",
            " 12  in_reply_to_user_id_str    4512 non-null   object \n",
            " 13  in_reply_to_screen_name    4512 non-null   object \n",
            " 14  user                       33583 non-null  object \n",
            " 15  geo                        0 non-null      object \n",
            " 16  coordinates                0 non-null      object \n",
            " 17  place                      164 non-null    object \n",
            " 18  contributors               0 non-null      object \n",
            " 19  retweeted_status           19517 non-null  object \n",
            " 20  is_quote_status            33583 non-null  bool   \n",
            " 21  retweet_count              33583 non-null  int64  \n",
            " 22  favorite_count             33583 non-null  int64  \n",
            " 23  favorited                  33583 non-null  bool   \n",
            " 24  retweeted                  33583 non-null  bool   \n",
            " 25  lang                       33583 non-null  object \n",
            " 26  extended_entities          2785 non-null   object \n",
            " 27  possibly_sensitive         3979 non-null   object \n",
            " 28  quoted_status_id           1415 non-null   float64\n",
            " 29  quoted_status_id_str       1415 non-null   object \n",
            " 30  quoted_status              1004 non-null   object \n",
            "dtypes: bool(4), float64(3), int64(3), object(21)\n",
            "memory usage: 7.0+ MB\n"
          ]
        }
      ]
    },
    {
      "cell_type": "code",
      "metadata": {
        "id": "f6a6b53c"
      },
      "source": [
        "df = df[['created_at','full_text','place','retweet_count','favorite_count']]"
      ],
      "id": "f6a6b53c",
      "execution_count": 23,
      "outputs": []
    },
    {
      "cell_type": "code",
      "metadata": {
        "id": "3a68c473"
      },
      "source": [
        "user = [t['user'] for t in data]"
      ],
      "id": "3a68c473",
      "execution_count": 24,
      "outputs": []
    },
    {
      "cell_type": "code",
      "metadata": {
        "id": "0b75c3da"
      },
      "source": [
        "df_user = pd.DataFrame(user)"
      ],
      "id": "0b75c3da",
      "execution_count": 25,
      "outputs": []
    },
    {
      "cell_type": "code",
      "metadata": {
        "id": "6b090dd7",
        "colab": {
          "base_uri": "https://localhost:8080/"
        },
        "outputId": "88d53bd7-8f73-475f-d019-c4b83e63e777"
      },
      "source": [
        "df_user.keys()"
      ],
      "id": "6b090dd7",
      "execution_count": 26,
      "outputs": [
        {
          "output_type": "execute_result",
          "data": {
            "text/plain": [
              "Index(['id', 'id_str', 'name', 'screen_name', 'location', 'description', 'url',\n",
              "       'entities', 'protected', 'followers_count', 'friends_count',\n",
              "       'listed_count', 'created_at', 'favourites_count', 'utc_offset',\n",
              "       'time_zone', 'geo_enabled', 'verified', 'statuses_count', 'lang',\n",
              "       'contributors_enabled', 'is_translator', 'is_translation_enabled',\n",
              "       'profile_background_color', 'profile_background_image_url',\n",
              "       'profile_background_image_url_https', 'profile_background_tile',\n",
              "       'profile_image_url', 'profile_image_url_https', 'profile_link_color',\n",
              "       'profile_sidebar_border_color', 'profile_sidebar_fill_color',\n",
              "       'profile_text_color', 'profile_use_background_image',\n",
              "       'has_extended_profile', 'default_profile', 'default_profile_image',\n",
              "       'following', 'follow_request_sent', 'notifications', 'translator_type',\n",
              "       'withheld_in_countries', 'profile_banner_url'],\n",
              "      dtype='object')"
            ]
          },
          "metadata": {},
          "execution_count": 26
        }
      ]
    },
    {
      "cell_type": "code",
      "metadata": {
        "id": "0996f979"
      },
      "source": [
        "df_user = df_user[['id','id_str','name','screen_name',\\\n",
        "                  'location','followers_count','friends_count',\\\n",
        "                   'listed_count', 'favourites_count']]"
      ],
      "id": "0996f979",
      "execution_count": 27,
      "outputs": []
    },
    {
      "cell_type": "code",
      "metadata": {
        "id": "330a371f"
      },
      "source": [
        "df2 = pd.concat([df_user, df], axis=1)"
      ],
      "id": "330a371f",
      "execution_count": 28,
      "outputs": []
    },
    {
      "cell_type": "code",
      "metadata": {
        "id": "d317192a",
        "colab": {
          "base_uri": "https://localhost:8080/",
          "height": 0
        },
        "outputId": "1b4576ad-cc65-4ab3-d3f0-2d7c2b0aaa48"
      },
      "source": [
        "df2.head()"
      ],
      "id": "d317192a",
      "execution_count": 29,
      "outputs": [
        {
          "output_type": "execute_result",
          "data": {
            "text/html": [
              "<div>\n",
              "<style scoped>\n",
              "    .dataframe tbody tr th:only-of-type {\n",
              "        vertical-align: middle;\n",
              "    }\n",
              "\n",
              "    .dataframe tbody tr th {\n",
              "        vertical-align: top;\n",
              "    }\n",
              "\n",
              "    .dataframe thead th {\n",
              "        text-align: right;\n",
              "    }\n",
              "</style>\n",
              "<table border=\"1\" class=\"dataframe\">\n",
              "  <thead>\n",
              "    <tr style=\"text-align: right;\">\n",
              "      <th></th>\n",
              "      <th>id</th>\n",
              "      <th>id_str</th>\n",
              "      <th>name</th>\n",
              "      <th>screen_name</th>\n",
              "      <th>location</th>\n",
              "      <th>followers_count</th>\n",
              "      <th>friends_count</th>\n",
              "      <th>listed_count</th>\n",
              "      <th>favourites_count</th>\n",
              "      <th>created_at</th>\n",
              "      <th>full_text</th>\n",
              "      <th>place</th>\n",
              "      <th>retweet_count</th>\n",
              "      <th>favorite_count</th>\n",
              "    </tr>\n",
              "  </thead>\n",
              "  <tbody>\n",
              "    <tr>\n",
              "      <th>0</th>\n",
              "      <td>1122504780985712640</td>\n",
              "      <td>1122504780985712640</td>\n",
              "      <td>chicken little</td>\n",
              "      <td>yamayamkecil</td>\n",
              "      <td>🌍</td>\n",
              "      <td>7</td>\n",
              "      <td>62</td>\n",
              "      <td>0</td>\n",
              "      <td>1765</td>\n",
              "      <td>Sat Oct 16 18:48:56 +0000 2021</td>\n",
              "      <td>RT @ProfesorZubairi: Malam yang hebat untuk ko...</td>\n",
              "      <td>None</td>\n",
              "      <td>113</td>\n",
              "      <td>0</td>\n",
              "    </tr>\n",
              "    <tr>\n",
              "      <th>1</th>\n",
              "      <td>1292609816972517376</td>\n",
              "      <td>1292609816972517376</td>\n",
              "      <td>zy.</td>\n",
              "      <td>sivpit</td>\n",
              "      <td></td>\n",
              "      <td>18</td>\n",
              "      <td>97</td>\n",
              "      <td>0</td>\n",
              "      <td>172</td>\n",
              "      <td>Sat Oct 16 18:48:11 +0000 2021</td>\n",
              "      <td>RT @darqling: @BadmintonTalk Jojo keren banget...</td>\n",
              "      <td>None</td>\n",
              "      <td>424</td>\n",
              "      <td>0</td>\n",
              "    </tr>\n",
              "    <tr>\n",
              "      <th>2</th>\n",
              "      <td>1292609816972517376</td>\n",
              "      <td>1292609816972517376</td>\n",
              "      <td>zy.</td>\n",
              "      <td>sivpit</td>\n",
              "      <td></td>\n",
              "      <td>18</td>\n",
              "      <td>97</td>\n",
              "      <td>0</td>\n",
              "      <td>172</td>\n",
              "      <td>Sat Oct 16 18:47:09 +0000 2021</td>\n",
              "      <td>RT @ananditamo: @BadmintonTalk Gws antonsen, g...</td>\n",
              "      <td>None</td>\n",
              "      <td>43</td>\n",
              "      <td>0</td>\n",
              "    </tr>\n",
              "    <tr>\n",
              "      <th>3</th>\n",
              "      <td>1427545346624741381</td>\n",
              "      <td>1427545346624741381</td>\n",
              "      <td>Chikko Fernando_3</td>\n",
              "      <td>chikko_fernando</td>\n",
              "      <td>Bogor, Jawa Barat</td>\n",
              "      <td>3</td>\n",
              "      <td>25</td>\n",
              "      <td>0</td>\n",
              "      <td>226</td>\n",
              "      <td>Sat Oct 16 18:46:40 +0000 2021</td>\n",
              "      <td>RT @eui__99: @BadmintonTalk Siapa sangka jojo ...</td>\n",
              "      <td>None</td>\n",
              "      <td>731</td>\n",
              "      <td>0</td>\n",
              "    </tr>\n",
              "    <tr>\n",
              "      <th>4</th>\n",
              "      <td>919826689663713280</td>\n",
              "      <td>919826689663713280</td>\n",
              "      <td>support TUC Team🇮🇩</td>\n",
              "      <td>__succiduous</td>\n",
              "      <td>Indonesia❤️</td>\n",
              "      <td>3</td>\n",
              "      <td>151</td>\n",
              "      <td>0</td>\n",
              "      <td>18512</td>\n",
              "      <td>Sat Oct 16 18:46:32 +0000 2021</td>\n",
              "      <td>RT @uchieletto: walaupun antonsen ditonton sm ...</td>\n",
              "      <td>None</td>\n",
              "      <td>12</td>\n",
              "      <td>0</td>\n",
              "    </tr>\n",
              "  </tbody>\n",
              "</table>\n",
              "</div>"
            ],
            "text/plain": [
              "                    id               id_str  ... retweet_count favorite_count\n",
              "0  1122504780985712640  1122504780985712640  ...           113              0\n",
              "1  1292609816972517376  1292609816972517376  ...           424              0\n",
              "2  1292609816972517376  1292609816972517376  ...            43              0\n",
              "3  1427545346624741381  1427545346624741381  ...           731              0\n",
              "4   919826689663713280   919826689663713280  ...            12              0\n",
              "\n",
              "[5 rows x 14 columns]"
            ]
          },
          "metadata": {},
          "execution_count": 29
        }
      ]
    },
    {
      "cell_type": "code",
      "metadata": {
        "id": "f84b4da3",
        "colab": {
          "base_uri": "https://localhost:8080/"
        },
        "outputId": "67720092-8b37-47f3-a72c-822417d6d99d"
      },
      "source": [
        "df2.info()"
      ],
      "id": "f84b4da3",
      "execution_count": 30,
      "outputs": [
        {
          "output_type": "stream",
          "name": "stdout",
          "text": [
            "<class 'pandas.core.frame.DataFrame'>\n",
            "RangeIndex: 33583 entries, 0 to 33582\n",
            "Data columns (total 14 columns):\n",
            " #   Column            Non-Null Count  Dtype \n",
            "---  ------            --------------  ----- \n",
            " 0   id                33583 non-null  int64 \n",
            " 1   id_str            33583 non-null  object\n",
            " 2   name              33583 non-null  object\n",
            " 3   screen_name       33583 non-null  object\n",
            " 4   location          33583 non-null  object\n",
            " 5   followers_count   33583 non-null  int64 \n",
            " 6   friends_count     33583 non-null  int64 \n",
            " 7   listed_count      33583 non-null  int64 \n",
            " 8   favourites_count  33583 non-null  int64 \n",
            " 9   created_at        33583 non-null  object\n",
            " 10  full_text         33583 non-null  object\n",
            " 11  place             164 non-null    object\n",
            " 12  retweet_count     33583 non-null  int64 \n",
            " 13  favorite_count    33583 non-null  int64 \n",
            "dtypes: int64(7), object(7)\n",
            "memory usage: 3.6+ MB\n"
          ]
        }
      ]
    },
    {
      "cell_type": "markdown",
      "metadata": {
        "id": "17f81e36"
      },
      "source": [
        "#  Cleaning Text"
      ],
      "id": "17f81e36"
    },
    {
      "cell_type": "code",
      "metadata": {
        "id": "19c9104d"
      },
      "source": [
        "def clean_tweet(tweet):\n",
        "    if type(tweet) == np.float:\n",
        "        return \"\"\n",
        "    temp = tweet.lower()\n",
        "    temp = re.sub(\"@[A-Za-z0-9_]+\",\"\", temp)\n",
        "    temp = re.sub(\"#[A-Za-z0-9_]+\",\"\", temp)\n",
        "    temp = re.sub(r'http\\S+', '', temp)\n",
        "    temp = re.sub('[()!?]', ' ', temp)\n",
        "    temp = re.sub('\\[.*?\\]',' ', temp)\n",
        "    temp = re.sub(\"[^a-z0-9]\",\" \", temp)\n",
        "    return temp"
      ],
      "id": "19c9104d",
      "execution_count": 31,
      "outputs": []
    },
    {
      "cell_type": "code",
      "metadata": {
        "id": "cc00e726",
        "colab": {
          "base_uri": "https://localhost:8080/",
          "height": 0
        },
        "outputId": "bba98933-7418-4f36-b26a-fadfce76c4c7"
      },
      "source": [
        "df2['clean_dasar'] = df2['full_text'].apply(lambda x: clean_tweet(x))\n",
        "df2.head()"
      ],
      "id": "cc00e726",
      "execution_count": 32,
      "outputs": [
        {
          "output_type": "execute_result",
          "data": {
            "text/html": [
              "<div>\n",
              "<style scoped>\n",
              "    .dataframe tbody tr th:only-of-type {\n",
              "        vertical-align: middle;\n",
              "    }\n",
              "\n",
              "    .dataframe tbody tr th {\n",
              "        vertical-align: top;\n",
              "    }\n",
              "\n",
              "    .dataframe thead th {\n",
              "        text-align: right;\n",
              "    }\n",
              "</style>\n",
              "<table border=\"1\" class=\"dataframe\">\n",
              "  <thead>\n",
              "    <tr style=\"text-align: right;\">\n",
              "      <th></th>\n",
              "      <th>id</th>\n",
              "      <th>id_str</th>\n",
              "      <th>name</th>\n",
              "      <th>screen_name</th>\n",
              "      <th>location</th>\n",
              "      <th>followers_count</th>\n",
              "      <th>friends_count</th>\n",
              "      <th>listed_count</th>\n",
              "      <th>favourites_count</th>\n",
              "      <th>created_at</th>\n",
              "      <th>full_text</th>\n",
              "      <th>place</th>\n",
              "      <th>retweet_count</th>\n",
              "      <th>favorite_count</th>\n",
              "      <th>clean_dasar</th>\n",
              "    </tr>\n",
              "  </thead>\n",
              "  <tbody>\n",
              "    <tr>\n",
              "      <th>0</th>\n",
              "      <td>1122504780985712640</td>\n",
              "      <td>1122504780985712640</td>\n",
              "      <td>chicken little</td>\n",
              "      <td>yamayamkecil</td>\n",
              "      <td>🌍</td>\n",
              "      <td>7</td>\n",
              "      <td>62</td>\n",
              "      <td>0</td>\n",
              "      <td>1765</td>\n",
              "      <td>Sat Oct 16 18:48:56 +0000 2021</td>\n",
              "      <td>RT @ProfesorZubairi: Malam yang hebat untuk ko...</td>\n",
              "      <td>None</td>\n",
              "      <td>113</td>\n",
              "      <td>0</td>\n",
              "      <td>rt   malam yang hebat untuk komunitas badminto...</td>\n",
              "    </tr>\n",
              "    <tr>\n",
              "      <th>1</th>\n",
              "      <td>1292609816972517376</td>\n",
              "      <td>1292609816972517376</td>\n",
              "      <td>zy.</td>\n",
              "      <td>sivpit</td>\n",
              "      <td></td>\n",
              "      <td>18</td>\n",
              "      <td>97</td>\n",
              "      <td>0</td>\n",
              "      <td>172</td>\n",
              "      <td>Sat Oct 16 18:48:11 +0000 2021</td>\n",
              "      <td>RT @darqling: @BadmintonTalk Jojo keren banget...</td>\n",
              "      <td>None</td>\n",
              "      <td>424</td>\n",
              "      <td>0</td>\n",
              "      <td>rt    jojo keren banget bangkit teruuss  makas...</td>\n",
              "    </tr>\n",
              "    <tr>\n",
              "      <th>2</th>\n",
              "      <td>1292609816972517376</td>\n",
              "      <td>1292609816972517376</td>\n",
              "      <td>zy.</td>\n",
              "      <td>sivpit</td>\n",
              "      <td></td>\n",
              "      <td>18</td>\n",
              "      <td>97</td>\n",
              "      <td>0</td>\n",
              "      <td>172</td>\n",
              "      <td>Sat Oct 16 18:47:09 +0000 2021</td>\n",
              "      <td>RT @ananditamo: @BadmintonTalk Gws antonsen, g...</td>\n",
              "      <td>None</td>\n",
              "      <td>43</td>\n",
              "      <td>0</td>\n",
              "      <td>rt    gws antonsen  gua rasa awal mula crampny...</td>\n",
              "    </tr>\n",
              "    <tr>\n",
              "      <th>3</th>\n",
              "      <td>1427545346624741381</td>\n",
              "      <td>1427545346624741381</td>\n",
              "      <td>Chikko Fernando_3</td>\n",
              "      <td>chikko_fernando</td>\n",
              "      <td>Bogor, Jawa Barat</td>\n",
              "      <td>3</td>\n",
              "      <td>25</td>\n",
              "      <td>0</td>\n",
              "      <td>226</td>\n",
              "      <td>Sat Oct 16 18:46:40 +0000 2021</td>\n",
              "      <td>RT @eui__99: @BadmintonTalk Siapa sangka jojo ...</td>\n",
              "      <td>None</td>\n",
              "      <td>731</td>\n",
              "      <td>0</td>\n",
              "      <td>rt    siapa sangka jojo yang di match ini ga d...</td>\n",
              "    </tr>\n",
              "    <tr>\n",
              "      <th>4</th>\n",
              "      <td>919826689663713280</td>\n",
              "      <td>919826689663713280</td>\n",
              "      <td>support TUC Team🇮🇩</td>\n",
              "      <td>__succiduous</td>\n",
              "      <td>Indonesia❤️</td>\n",
              "      <td>3</td>\n",
              "      <td>151</td>\n",
              "      <td>0</td>\n",
              "      <td>18512</td>\n",
              "      <td>Sat Oct 16 18:46:32 +0000 2021</td>\n",
              "      <td>RT @uchieletto: walaupun antonsen ditonton sm ...</td>\n",
              "      <td>None</td>\n",
              "      <td>12</td>\n",
              "      <td>0</td>\n",
              "      <td>rt   walaupun antonsen ditonton sm rt rw aarhu...</td>\n",
              "    </tr>\n",
              "  </tbody>\n",
              "</table>\n",
              "</div>"
            ],
            "text/plain": [
              "                    id  ...                                        clean_dasar\n",
              "0  1122504780985712640  ...  rt   malam yang hebat untuk komunitas badminto...\n",
              "1  1292609816972517376  ...  rt    jojo keren banget bangkit teruuss  makas...\n",
              "2  1292609816972517376  ...  rt    gws antonsen  gua rasa awal mula crampny...\n",
              "3  1427545346624741381  ...  rt    siapa sangka jojo yang di match ini ga d...\n",
              "4   919826689663713280  ...  rt   walaupun antonsen ditonton sm rt rw aarhu...\n",
              "\n",
              "[5 rows x 15 columns]"
            ]
          },
          "metadata": {},
          "execution_count": 32
        }
      ]
    },
    {
      "cell_type": "code",
      "metadata": {
        "id": "e6078b3f",
        "colab": {
          "base_uri": "https://localhost:8080/",
          "height": 0
        },
        "outputId": "b154ef14-bf9a-4b44-a8e0-dd30a4c213ee"
      },
      "source": [
        "Tokenizer = TweetTokenizer(strip_handles=True, reduce_len=True)\n",
        "\n",
        "def tokenization(text):\n",
        "    teks= Tokenizer.tokenize(text)\n",
        "    return teks\n",
        "\n",
        "df2['tokenized'] = df2['clean_dasar'].apply(lambda x: tokenization(x))\n",
        "df2.head()"
      ],
      "id": "e6078b3f",
      "execution_count": 33,
      "outputs": [
        {
          "output_type": "execute_result",
          "data": {
            "text/html": [
              "<div>\n",
              "<style scoped>\n",
              "    .dataframe tbody tr th:only-of-type {\n",
              "        vertical-align: middle;\n",
              "    }\n",
              "\n",
              "    .dataframe tbody tr th {\n",
              "        vertical-align: top;\n",
              "    }\n",
              "\n",
              "    .dataframe thead th {\n",
              "        text-align: right;\n",
              "    }\n",
              "</style>\n",
              "<table border=\"1\" class=\"dataframe\">\n",
              "  <thead>\n",
              "    <tr style=\"text-align: right;\">\n",
              "      <th></th>\n",
              "      <th>id</th>\n",
              "      <th>id_str</th>\n",
              "      <th>name</th>\n",
              "      <th>screen_name</th>\n",
              "      <th>location</th>\n",
              "      <th>followers_count</th>\n",
              "      <th>friends_count</th>\n",
              "      <th>listed_count</th>\n",
              "      <th>favourites_count</th>\n",
              "      <th>created_at</th>\n",
              "      <th>full_text</th>\n",
              "      <th>place</th>\n",
              "      <th>retweet_count</th>\n",
              "      <th>favorite_count</th>\n",
              "      <th>clean_dasar</th>\n",
              "      <th>tokenized</th>\n",
              "    </tr>\n",
              "  </thead>\n",
              "  <tbody>\n",
              "    <tr>\n",
              "      <th>0</th>\n",
              "      <td>1122504780985712640</td>\n",
              "      <td>1122504780985712640</td>\n",
              "      <td>chicken little</td>\n",
              "      <td>yamayamkecil</td>\n",
              "      <td>🌍</td>\n",
              "      <td>7</td>\n",
              "      <td>62</td>\n",
              "      <td>0</td>\n",
              "      <td>1765</td>\n",
              "      <td>Sat Oct 16 18:48:56 +0000 2021</td>\n",
              "      <td>RT @ProfesorZubairi: Malam yang hebat untuk ko...</td>\n",
              "      <td>None</td>\n",
              "      <td>113</td>\n",
              "      <td>0</td>\n",
              "      <td>rt   malam yang hebat untuk komunitas badminto...</td>\n",
              "      <td>[rt, malam, yang, hebat, untuk, komunitas, bad...</td>\n",
              "    </tr>\n",
              "    <tr>\n",
              "      <th>1</th>\n",
              "      <td>1292609816972517376</td>\n",
              "      <td>1292609816972517376</td>\n",
              "      <td>zy.</td>\n",
              "      <td>sivpit</td>\n",
              "      <td></td>\n",
              "      <td>18</td>\n",
              "      <td>97</td>\n",
              "      <td>0</td>\n",
              "      <td>172</td>\n",
              "      <td>Sat Oct 16 18:48:11 +0000 2021</td>\n",
              "      <td>RT @darqling: @BadmintonTalk Jojo keren banget...</td>\n",
              "      <td>None</td>\n",
              "      <td>424</td>\n",
              "      <td>0</td>\n",
              "      <td>rt    jojo keren banget bangkit teruuss  makas...</td>\n",
              "      <td>[rt, jojo, keren, banget, bangkit, teruuss, ma...</td>\n",
              "    </tr>\n",
              "    <tr>\n",
              "      <th>2</th>\n",
              "      <td>1292609816972517376</td>\n",
              "      <td>1292609816972517376</td>\n",
              "      <td>zy.</td>\n",
              "      <td>sivpit</td>\n",
              "      <td></td>\n",
              "      <td>18</td>\n",
              "      <td>97</td>\n",
              "      <td>0</td>\n",
              "      <td>172</td>\n",
              "      <td>Sat Oct 16 18:47:09 +0000 2021</td>\n",
              "      <td>RT @ananditamo: @BadmintonTalk Gws antonsen, g...</td>\n",
              "      <td>None</td>\n",
              "      <td>43</td>\n",
              "      <td>0</td>\n",
              "      <td>rt    gws antonsen  gua rasa awal mula crampny...</td>\n",
              "      <td>[rt, gws, antonsen, gua, rasa, awal, mula, cra...</td>\n",
              "    </tr>\n",
              "    <tr>\n",
              "      <th>3</th>\n",
              "      <td>1427545346624741381</td>\n",
              "      <td>1427545346624741381</td>\n",
              "      <td>Chikko Fernando_3</td>\n",
              "      <td>chikko_fernando</td>\n",
              "      <td>Bogor, Jawa Barat</td>\n",
              "      <td>3</td>\n",
              "      <td>25</td>\n",
              "      <td>0</td>\n",
              "      <td>226</td>\n",
              "      <td>Sat Oct 16 18:46:40 +0000 2021</td>\n",
              "      <td>RT @eui__99: @BadmintonTalk Siapa sangka jojo ...</td>\n",
              "      <td>None</td>\n",
              "      <td>731</td>\n",
              "      <td>0</td>\n",
              "      <td>rt    siapa sangka jojo yang di match ini ga d...</td>\n",
              "      <td>[rt, siapa, sangka, jojo, yang, di, match, ini...</td>\n",
              "    </tr>\n",
              "    <tr>\n",
              "      <th>4</th>\n",
              "      <td>919826689663713280</td>\n",
              "      <td>919826689663713280</td>\n",
              "      <td>support TUC Team🇮🇩</td>\n",
              "      <td>__succiduous</td>\n",
              "      <td>Indonesia❤️</td>\n",
              "      <td>3</td>\n",
              "      <td>151</td>\n",
              "      <td>0</td>\n",
              "      <td>18512</td>\n",
              "      <td>Sat Oct 16 18:46:32 +0000 2021</td>\n",
              "      <td>RT @uchieletto: walaupun antonsen ditonton sm ...</td>\n",
              "      <td>None</td>\n",
              "      <td>12</td>\n",
              "      <td>0</td>\n",
              "      <td>rt   walaupun antonsen ditonton sm rt rw aarhu...</td>\n",
              "      <td>[rt, walaupun, antonsen, ditonton, sm, rt, rw,...</td>\n",
              "    </tr>\n",
              "  </tbody>\n",
              "</table>\n",
              "</div>"
            ],
            "text/plain": [
              "                    id  ...                                          tokenized\n",
              "0  1122504780985712640  ...  [rt, malam, yang, hebat, untuk, komunitas, bad...\n",
              "1  1292609816972517376  ...  [rt, jojo, keren, banget, bangkit, teruuss, ma...\n",
              "2  1292609816972517376  ...  [rt, gws, antonsen, gua, rasa, awal, mula, cra...\n",
              "3  1427545346624741381  ...  [rt, siapa, sangka, jojo, yang, di, match, ini...\n",
              "4   919826689663713280  ...  [rt, walaupun, antonsen, ditonton, sm, rt, rw,...\n",
              "\n",
              "[5 rows x 16 columns]"
            ]
          },
          "metadata": {},
          "execution_count": 33
        }
      ]
    },
    {
      "cell_type": "code",
      "metadata": {
        "id": "dcf33739",
        "colab": {
          "base_uri": "https://localhost:8080/"
        },
        "outputId": "1b6e1249-1e08-4bab-9744-5048b2522325"
      },
      "source": [
        "factory = StopWordRemoverFactory()\n",
        "\n",
        "Sastrawi_StopWords_id = factory.get_stop_words()\n",
        "\n",
        "stopword = Sastrawi_StopWords_id + ['rt']\n",
        "\n",
        "print(stopword)"
      ],
      "id": "dcf33739",
      "execution_count": 34,
      "outputs": [
        {
          "output_type": "stream",
          "name": "stdout",
          "text": [
            "['yang', 'untuk', 'pada', 'ke', 'para', 'namun', 'menurut', 'antara', 'dia', 'dua', 'ia', 'seperti', 'jika', 'jika', 'sehingga', 'kembali', 'dan', 'tidak', 'ini', 'karena', 'kepada', 'oleh', 'saat', 'harus', 'sementara', 'setelah', 'belum', 'kami', 'sekitar', 'bagi', 'serta', 'di', 'dari', 'telah', 'sebagai', 'masih', 'hal', 'ketika', 'adalah', 'itu', 'dalam', 'bisa', 'bahwa', 'atau', 'hanya', 'kita', 'dengan', 'akan', 'juga', 'ada', 'mereka', 'sudah', 'saya', 'terhadap', 'secara', 'agar', 'lain', 'anda', 'begitu', 'mengapa', 'kenapa', 'yaitu', 'yakni', 'daripada', 'itulah', 'lagi', 'maka', 'tentang', 'demi', 'dimana', 'kemana', 'pula', 'sambil', 'sebelum', 'sesudah', 'supaya', 'guna', 'kah', 'pun', 'sampai', 'sedangkan', 'selagi', 'sementara', 'tetapi', 'apakah', 'kecuali', 'sebab', 'selain', 'seolah', 'seraya', 'seterusnya', 'tanpa', 'agak', 'boleh', 'dapat', 'dsb', 'dst', 'dll', 'dahulu', 'dulunya', 'anu', 'demikian', 'tapi', 'ingin', 'juga', 'nggak', 'mari', 'nanti', 'melainkan', 'oh', 'ok', 'seharusnya', 'sebetulnya', 'setiap', 'setidaknya', 'sesuatu', 'pasti', 'saja', 'toh', 'ya', 'walau', 'tolong', 'tentu', 'amat', 'apalagi', 'bagaimanapun', 'rt']\n"
          ]
        }
      ]
    },
    {
      "cell_type": "code",
      "metadata": {
        "id": "259c5272",
        "colab": {
          "base_uri": "https://localhost:8080/",
          "height": 0
        },
        "outputId": "d876aa48-0a19-4859-ccbe-8357bd6bd803"
      },
      "source": [
        "def remove_stopwords(text):\n",
        "    text = [word for word in text if word not in stopword]\n",
        "    return text\n",
        "    \n",
        "df2['stopword_remove'] = df2['tokenized'].apply(lambda x: remove_stopwords(x))\n",
        "df2.head()"
      ],
      "id": "259c5272",
      "execution_count": 35,
      "outputs": [
        {
          "output_type": "execute_result",
          "data": {
            "text/html": [
              "<div>\n",
              "<style scoped>\n",
              "    .dataframe tbody tr th:only-of-type {\n",
              "        vertical-align: middle;\n",
              "    }\n",
              "\n",
              "    .dataframe tbody tr th {\n",
              "        vertical-align: top;\n",
              "    }\n",
              "\n",
              "    .dataframe thead th {\n",
              "        text-align: right;\n",
              "    }\n",
              "</style>\n",
              "<table border=\"1\" class=\"dataframe\">\n",
              "  <thead>\n",
              "    <tr style=\"text-align: right;\">\n",
              "      <th></th>\n",
              "      <th>id</th>\n",
              "      <th>id_str</th>\n",
              "      <th>name</th>\n",
              "      <th>screen_name</th>\n",
              "      <th>location</th>\n",
              "      <th>followers_count</th>\n",
              "      <th>friends_count</th>\n",
              "      <th>listed_count</th>\n",
              "      <th>favourites_count</th>\n",
              "      <th>created_at</th>\n",
              "      <th>full_text</th>\n",
              "      <th>place</th>\n",
              "      <th>retweet_count</th>\n",
              "      <th>favorite_count</th>\n",
              "      <th>clean_dasar</th>\n",
              "      <th>tokenized</th>\n",
              "      <th>stopword_remove</th>\n",
              "    </tr>\n",
              "  </thead>\n",
              "  <tbody>\n",
              "    <tr>\n",
              "      <th>0</th>\n",
              "      <td>1122504780985712640</td>\n",
              "      <td>1122504780985712640</td>\n",
              "      <td>chicken little</td>\n",
              "      <td>yamayamkecil</td>\n",
              "      <td>🌍</td>\n",
              "      <td>7</td>\n",
              "      <td>62</td>\n",
              "      <td>0</td>\n",
              "      <td>1765</td>\n",
              "      <td>Sat Oct 16 18:48:56 +0000 2021</td>\n",
              "      <td>RT @ProfesorZubairi: Malam yang hebat untuk ko...</td>\n",
              "      <td>None</td>\n",
              "      <td>113</td>\n",
              "      <td>0</td>\n",
              "      <td>rt   malam yang hebat untuk komunitas badminto...</td>\n",
              "      <td>[rt, malam, yang, hebat, untuk, komunitas, bad...</td>\n",
              "      <td>[malam, hebat, komunitas, badminton, indonesia...</td>\n",
              "    </tr>\n",
              "    <tr>\n",
              "      <th>1</th>\n",
              "      <td>1292609816972517376</td>\n",
              "      <td>1292609816972517376</td>\n",
              "      <td>zy.</td>\n",
              "      <td>sivpit</td>\n",
              "      <td></td>\n",
              "      <td>18</td>\n",
              "      <td>97</td>\n",
              "      <td>0</td>\n",
              "      <td>172</td>\n",
              "      <td>Sat Oct 16 18:48:11 +0000 2021</td>\n",
              "      <td>RT @darqling: @BadmintonTalk Jojo keren banget...</td>\n",
              "      <td>None</td>\n",
              "      <td>424</td>\n",
              "      <td>0</td>\n",
              "      <td>rt    jojo keren banget bangkit teruuss  makas...</td>\n",
              "      <td>[rt, jojo, keren, banget, bangkit, teruuss, ma...</td>\n",
              "      <td>[jojo, keren, banget, bangkit, teruuss, makasi...</td>\n",
              "    </tr>\n",
              "    <tr>\n",
              "      <th>2</th>\n",
              "      <td>1292609816972517376</td>\n",
              "      <td>1292609816972517376</td>\n",
              "      <td>zy.</td>\n",
              "      <td>sivpit</td>\n",
              "      <td></td>\n",
              "      <td>18</td>\n",
              "      <td>97</td>\n",
              "      <td>0</td>\n",
              "      <td>172</td>\n",
              "      <td>Sat Oct 16 18:47:09 +0000 2021</td>\n",
              "      <td>RT @ananditamo: @BadmintonTalk Gws antonsen, g...</td>\n",
              "      <td>None</td>\n",
              "      <td>43</td>\n",
              "      <td>0</td>\n",
              "      <td>rt    gws antonsen  gua rasa awal mula crampny...</td>\n",
              "      <td>[rt, gws, antonsen, gua, rasa, awal, mula, cra...</td>\n",
              "      <td>[gws, antonsen, gua, rasa, awal, mula, crampny...</td>\n",
              "    </tr>\n",
              "    <tr>\n",
              "      <th>3</th>\n",
              "      <td>1427545346624741381</td>\n",
              "      <td>1427545346624741381</td>\n",
              "      <td>Chikko Fernando_3</td>\n",
              "      <td>chikko_fernando</td>\n",
              "      <td>Bogor, Jawa Barat</td>\n",
              "      <td>3</td>\n",
              "      <td>25</td>\n",
              "      <td>0</td>\n",
              "      <td>226</td>\n",
              "      <td>Sat Oct 16 18:46:40 +0000 2021</td>\n",
              "      <td>RT @eui__99: @BadmintonTalk Siapa sangka jojo ...</td>\n",
              "      <td>None</td>\n",
              "      <td>731</td>\n",
              "      <td>0</td>\n",
              "      <td>rt    siapa sangka jojo yang di match ini ga d...</td>\n",
              "      <td>[rt, siapa, sangka, jojo, yang, di, match, ini...</td>\n",
              "      <td>[siapa, sangka, jojo, match, ga, dijagoin, ban...</td>\n",
              "    </tr>\n",
              "    <tr>\n",
              "      <th>4</th>\n",
              "      <td>919826689663713280</td>\n",
              "      <td>919826689663713280</td>\n",
              "      <td>support TUC Team🇮🇩</td>\n",
              "      <td>__succiduous</td>\n",
              "      <td>Indonesia❤️</td>\n",
              "      <td>3</td>\n",
              "      <td>151</td>\n",
              "      <td>0</td>\n",
              "      <td>18512</td>\n",
              "      <td>Sat Oct 16 18:46:32 +0000 2021</td>\n",
              "      <td>RT @uchieletto: walaupun antonsen ditonton sm ...</td>\n",
              "      <td>None</td>\n",
              "      <td>12</td>\n",
              "      <td>0</td>\n",
              "      <td>rt   walaupun antonsen ditonton sm rt rw aarhu...</td>\n",
              "      <td>[rt, walaupun, antonsen, ditonton, sm, rt, rw,...</td>\n",
              "      <td>[walaupun, antonsen, ditonton, sm, rw, aarhus,...</td>\n",
              "    </tr>\n",
              "  </tbody>\n",
              "</table>\n",
              "</div>"
            ],
            "text/plain": [
              "                    id  ...                                    stopword_remove\n",
              "0  1122504780985712640  ...  [malam, hebat, komunitas, badminton, indonesia...\n",
              "1  1292609816972517376  ...  [jojo, keren, banget, bangkit, teruuss, makasi...\n",
              "2  1292609816972517376  ...  [gws, antonsen, gua, rasa, awal, mula, crampny...\n",
              "3  1427545346624741381  ...  [siapa, sangka, jojo, match, ga, dijagoin, ban...\n",
              "4   919826689663713280  ...  [walaupun, antonsen, ditonton, sm, rw, aarhus,...\n",
              "\n",
              "[5 rows x 17 columns]"
            ]
          },
          "metadata": {},
          "execution_count": 35
        }
      ]
    },
    {
      "cell_type": "code",
      "metadata": {
        "id": "2fb56a2c"
      },
      "source": [
        "stemmer = StemmerFactory().create_stemmer()\n",
        "\n",
        "def stemming(text):\n",
        "    text = [stemmer.stem(word) for word in text]\n",
        "    return text\n",
        "\n",
        "df2['stemmed'] = df2['stopword_remove'].apply(lambda x: stemming(x))\n",
        "df2.head()"
      ],
      "id": "2fb56a2c",
      "execution_count": null,
      "outputs": []
    },
    {
      "cell_type": "code",
      "metadata": {
        "id": "uX14CdDh070P"
      },
      "source": [
        "def cleanning (text):\n",
        "    text = \" \".join(word for word in text)\n",
        "    return text\n",
        "\n",
        "df2['clean_text'] = df2['stopword_remove'].apply(lambda x: cleanning(x))\n",
        "df2.head()"
      ],
      "id": "uX14CdDh070P",
      "execution_count": null,
      "outputs": []
    },
    {
      "cell_type": "code",
      "metadata": {
        "id": "-taSCKLH0yN5"
      },
      "source": [
        "final = df2[['clean_text']]"
      ],
      "id": "-taSCKLH0yN5",
      "execution_count": null,
      "outputs": []
    },
    {
      "cell_type": "code",
      "metadata": {
        "id": "e-gLYqeA03Od"
      },
      "source": [
        "final"
      ],
      "id": "e-gLYqeA03Od",
      "execution_count": null,
      "outputs": []
    },
    {
      "cell_type": "code",
      "metadata": {
        "id": "rhTuGqGi6BgY"
      },
      "source": [
        "final.to_json('DataCleanText.json', index='false')"
      ],
      "id": "rhTuGqGi6BgY",
      "execution_count": null,
      "outputs": []
    },
    {
      "cell_type": "markdown",
      "metadata": {
        "id": "d85a20d4"
      },
      "source": [
        "# EDA DASAR "
      ],
      "id": "d85a20d4"
    },
    {
      "cell_type": "code",
      "metadata": {
        "id": "19dc178f"
      },
      "source": [
        "print(\"tweet dari user dengan retweet terbanyak\")\n",
        "d_ = df2.loc[df2['retweet_count'].idxmax()]\n",
        "d_['clean_text']"
      ],
      "id": "19dc178f",
      "execution_count": null,
      "outputs": []
    },
    {
      "cell_type": "code",
      "metadata": {
        "id": "e620de18"
      },
      "source": [
        "print(\"tweet dari user dengan like terbanyak\")\n",
        "l_ = df2.loc[df2['favorite_count'].idxmax()]\n",
        "l_['clean_text']"
      ],
      "id": "e620de18",
      "execution_count": null,
      "outputs": []
    },
    {
      "cell_type": "code",
      "metadata": {
        "id": "8e0b0343"
      },
      "source": [
        "followers = df2.sort_values(by=[\"followers_count\"], ascending=False)\n",
        "followers.head()"
      ],
      "id": "8e0b0343",
      "execution_count": null,
      "outputs": []
    },
    {
      "cell_type": "code",
      "metadata": {
        "id": "20bd6173"
      },
      "source": [
        "print('user yang nge-tweet terbanyak')\n",
        "username = df2.groupby([\"name\",\"screen_name\"])\n",
        "\n",
        "u_ = username[\"name\"].count() \\\n",
        "                        .reset_index(name='count') \\\n",
        "                        .sort_values(['count'], \\\n",
        "                        ascending=False)\n",
        "\n",
        "u_.head(1)"
      ],
      "id": "20bd6173",
      "execution_count": null,
      "outputs": []
    },
    {
      "cell_type": "code",
      "metadata": {
        "id": "7bbebd39"
      },
      "source": [
        "import seaborn as sns, pandas as pd\n",
        "\n",
        "p = sns.countplot(y=df2.location, order=pd.value_counts(df2.location).iloc[2:15].index)"
      ],
      "id": "7bbebd39",
      "execution_count": null,
      "outputs": []
    },
    {
      "cell_type": "markdown",
      "metadata": {
        "id": "NEJjEZiB5KDq"
      },
      "source": [
        "# Geocode"
      ],
      "id": "NEJjEZiB5KDq"
    },
    {
      "cell_type": "code",
      "metadata": {
        "id": "WVSuPuqz5NTE"
      },
      "source": [
        "# Contoh API Keys (Sesuaikan dengan API keys masing-masing)\n",
        "Ck = 'zjpI6ZxH1wrPnSk1ugPCko63V' # consumer_key\n",
        "Cs = 'eFXogJ1GbyLcE1fWIXkjM51JXuDyk2zLvQvXauqXqTVNCZAA4r' # consumer_secret\n",
        "At = '1437538637927751682-7kiCGRwb6Q9CYo6cAqBAsWntAhRqij' # access_token\n",
        "As = '3UDrpUJ6TITlgZkXB5ybNrTlk1GB8Vpr7KHzvopEJ1ZSL' # access_secret\n",
        "'Done'"
      ],
      "id": "WVSuPuqz5NTE",
      "execution_count": null,
      "outputs": []
    },
    {
      "cell_type": "code",
      "metadata": {
        "id": "BnGQyteU8-F0"
      },
      "source": [
        "def connect(Ck, Cs, At, As):\n",
        "    auth = tweepy.auth.OAuthHandler(Ck, Cs)\n",
        "    auth.set_access_token(At, As)\n",
        "    api = tweepy.API(auth)\n",
        "    usr_ = api.verify_credentials()\n",
        "    print('Welcome \"{}\" you are now connected to twitter server'.format(usr_.name))\n",
        "    return api"
      ],
      "id": "BnGQyteU8-F0",
      "execution_count": null,
      "outputs": []
    },
    {
      "cell_type": "code",
      "metadata": {
        "id": "xR9ve5609CVB"
      },
      "source": [
        "# Koneksi ke twitter\n",
        "api = connect(Ck, Cs, At, As)"
      ],
      "id": "xR9ve5609CVB",
      "execution_count": null,
      "outputs": []
    },
    {
      "cell_type": "code",
      "metadata": {
        "id": "ht3dUBjm9FmR"
      },
      "source": [
        "# Mari kita coba #3 gunakan google (map) untuk koordinat suatu lokasi\n",
        "# http://thoughtfaucet.com/search-twitter-by-location/\n",
        "# misal search tweet tentang \"makanan\" di Depok dan sekitarnya\n",
        "\n",
        "auth = tweepy.auth.OAuthHandler(Ck, Cs)\n",
        "auth.set_access_token(At, As)\n",
        "api = tweepy.API(auth)\n",
        "\n",
        "Geo, N = \"-6.326740,106.730042,30km\", 5  # HAti-hati jangan ada spasi di Lat-Lon-Radius\n",
        "qry = 'Antonsen'\n",
        "for tweet in tweepy.Cursor(api.search, q=qry, count=100, geocode=Geo).items(N):\n",
        "    print([tweet.created_at, tweet.text.encode('utf-8'), tweet.user.id, tweet.geo])"
      ],
      "id": "ht3dUBjm9FmR",
      "execution_count": null,
      "outputs": []
    },
    {
      "cell_type": "markdown",
      "metadata": {
        "id": "0Zb-R9dt9PiR"
      },
      "source": [
        "#Voyant"
      ],
      "id": "0Zb-R9dt9PiR"
    },
    {
      "cell_type": "code",
      "metadata": {
        "id": "DgafP6UMQGdm"
      },
      "source": [
        "from PIL import Image"
      ],
      "id": "DgafP6UMQGdm",
      "execution_count": null,
      "outputs": []
    },
    {
      "cell_type": "code",
      "metadata": {
        "id": "p4LmQoqU9VE4"
      },
      "source": [
        "wordcloud = Image.open('/content/TugasKapsel1/Hasilvoyant/Wordcloud.jpeg')\n",
        "wordcloud"
      ],
      "id": "p4LmQoqU9VE4",
      "execution_count": null,
      "outputs": []
    },
    {
      "cell_type": "code",
      "metadata": {
        "id": "6zGoE1yQPFrH"
      },
      "source": [
        "link = Image.open('/content/TugasKapsel1/Hasilvoyant/Link.jpeg')\n",
        "link"
      ],
      "id": "6zGoE1yQPFrH",
      "execution_count": null,
      "outputs": []
    },
    {
      "cell_type": "code",
      "metadata": {
        "id": "SXrqnkusQULd"
      },
      "source": [
        "trend = Image.open('/content/TugasKapsel1/Hasilvoyant/Trend.jpeg')\n",
        "trend"
      ],
      "id": "SXrqnkusQULd",
      "execution_count": null,
      "outputs": []
    },
    {
      "cell_type": "code",
      "metadata": {
        "id": "YVSXrcbMQaxS"
      },
      "source": [
        "wordtree = Image.open('/content/TugasKapsel1/Hasilvoyant/Wordtree.jpeg')\n",
        "wordtree"
      ],
      "id": "YVSXrcbMQaxS",
      "execution_count": null,
      "outputs": []
    },
    {
      "cell_type": "markdown",
      "metadata": {
        "id": "D23YdmJWQxMX"
      },
      "source": [
        "**Interpretasi**\n",
        "\n",
        "\n",
        "*   Pada gambar WordCloud terlihat bahwa kata \"antonsen\" paling banyak di tweet karena memang kata kunci analisa ini adalah 'antonsen'. Selanjutnya terdapat kata 'jojo','jonatan','christie', 'vs', 'Andres', 'indonesia', dan 'semifinal' yang paling banyak di tweet setelah kata 'antonsen'. Hal tersebut dikarenakan pada saat itu sedang ada pertandingan badminton, indonesia yang diwakili oleh Jonatan Christie VS Andres Antonsen\n",
        "\n",
        "*   Pada gambar Link, dapat dilihat bahwa pada semifinal antara Indonesia(Jojo) vs Denmark(Antonsen)\n",
        "\n",
        "*   Dari data yang didapat pada gambar trend, menunjukkan jonatan memiliki korelasi yang sama dengan indonesia. Hal tersebut mengartikan bahwa jonatan merupakan wakil dari indonesia pada pertandingan badminton.\n",
        "\n",
        "*   Dari data yang didapat pada gambar wordtree, menunjukkan bahwa kelakuan anders antonsen saat bertanding tricky dan hobi nyungsruk\n",
        "\n",
        "\n"
      ],
      "id": "D23YdmJWQxMX"
    }
  ]
}