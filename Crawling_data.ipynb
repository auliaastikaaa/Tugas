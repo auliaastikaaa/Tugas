{
  "nbformat": 4,
  "nbformat_minor": 0,
  "metadata": {
    "colab": {
      "name": "Crawling_data",
      "provenance": [],
      "collapsed_sections": [
        "iNMcOAE0Ssij"
      ]
    },
    "kernelspec": {
      "display_name": "Python 3",
      "language": "python",
      "name": "python3"
    },
    "language_info": {
      "codemirror_mode": {
        "name": "ipython",
        "version": 3
      },
      "file_extension": ".py",
      "mimetype": "text/x-python",
      "name": "python",
      "nbconvert_exporter": "python",
      "pygments_lexer": "ipython3",
      "version": "3.8.8"
    }
  },
  "cells": [
    {
      "cell_type": "markdown",
      "metadata": {
        "id": "iNMcOAE0Ssij"
      },
      "source": [
        "# Crawling_data"
      ]
    },
    {
      "cell_type": "code",
      "metadata": {
        "colab": {
          "base_uri": "https://localhost:8080/"
        },
        "id": "XBNZsKcw-ao-",
        "outputId": "64133b87-dcda-439a-91ed-59ca8323b3e2"
      },
      "source": [
        "!pip install unidecode twython tweepy beautifulsoup4 tika"
      ],
      "execution_count": 2,
      "outputs": [
        {
          "output_type": "stream",
          "name": "stdout",
          "text": [
            "Collecting unidecode\n",
            "  Downloading Unidecode-1.3.2-py3-none-any.whl (235 kB)\n",
            "\u001b[?25l\r\u001b[K     |█▍                              | 10 kB 22.0 MB/s eta 0:00:01\r\u001b[K     |██▉                             | 20 kB 26.9 MB/s eta 0:00:01\r\u001b[K     |████▏                           | 30 kB 11.4 MB/s eta 0:00:01\r\u001b[K     |█████▋                          | 40 kB 9.0 MB/s eta 0:00:01\r\u001b[K     |███████                         | 51 kB 5.0 MB/s eta 0:00:01\r\u001b[K     |████████▍                       | 61 kB 5.3 MB/s eta 0:00:01\r\u001b[K     |█████████▊                      | 71 kB 5.7 MB/s eta 0:00:01\r\u001b[K     |███████████▏                    | 81 kB 6.4 MB/s eta 0:00:01\r\u001b[K     |████████████▌                   | 92 kB 5.9 MB/s eta 0:00:01\r\u001b[K     |██████████████                  | 102 kB 5.2 MB/s eta 0:00:01\r\u001b[K     |███████████████▎                | 112 kB 5.2 MB/s eta 0:00:01\r\u001b[K     |████████████████▊               | 122 kB 5.2 MB/s eta 0:00:01\r\u001b[K     |██████████████████              | 133 kB 5.2 MB/s eta 0:00:01\r\u001b[K     |███████████████████▌            | 143 kB 5.2 MB/s eta 0:00:01\r\u001b[K     |████████████████████▉           | 153 kB 5.2 MB/s eta 0:00:01\r\u001b[K     |██████████████████████▎         | 163 kB 5.2 MB/s eta 0:00:01\r\u001b[K     |███████████████████████▋        | 174 kB 5.2 MB/s eta 0:00:01\r\u001b[K     |█████████████████████████       | 184 kB 5.2 MB/s eta 0:00:01\r\u001b[K     |██████████████████████████▍     | 194 kB 5.2 MB/s eta 0:00:01\r\u001b[K     |███████████████████████████▉    | 204 kB 5.2 MB/s eta 0:00:01\r\u001b[K     |█████████████████████████████▏  | 215 kB 5.2 MB/s eta 0:00:01\r\u001b[K     |██████████████████████████████▋ | 225 kB 5.2 MB/s eta 0:00:01\r\u001b[K     |████████████████████████████████| 235 kB 5.2 MB/s eta 0:00:01\r\u001b[K     |████████████████████████████████| 235 kB 5.2 MB/s \n",
            "\u001b[?25hCollecting twython\n",
            "  Downloading twython-3.9.1-py3-none-any.whl (33 kB)\n",
            "Requirement already satisfied: tweepy in /usr/local/lib/python3.7/dist-packages (3.10.0)\n",
            "Requirement already satisfied: beautifulsoup4 in /usr/local/lib/python3.7/dist-packages (4.6.3)\n",
            "Collecting tika\n",
            "  Downloading tika-1.24.tar.gz (28 kB)\n",
            "Requirement already satisfied: requests>=2.1.0 in /usr/local/lib/python3.7/dist-packages (from twython) (2.23.0)\n",
            "Requirement already satisfied: requests-oauthlib>=0.4.0 in /usr/local/lib/python3.7/dist-packages (from twython) (1.3.0)\n",
            "Requirement already satisfied: chardet<4,>=3.0.2 in /usr/local/lib/python3.7/dist-packages (from requests>=2.1.0->twython) (3.0.4)\n",
            "Requirement already satisfied: idna<3,>=2.5 in /usr/local/lib/python3.7/dist-packages (from requests>=2.1.0->twython) (2.10)\n",
            "Requirement already satisfied: urllib3!=1.25.0,!=1.25.1,<1.26,>=1.21.1 in /usr/local/lib/python3.7/dist-packages (from requests>=2.1.0->twython) (1.24.3)\n",
            "Requirement already satisfied: certifi>=2017.4.17 in /usr/local/lib/python3.7/dist-packages (from requests>=2.1.0->twython) (2021.5.30)\n",
            "Requirement already satisfied: oauthlib>=3.0.0 in /usr/local/lib/python3.7/dist-packages (from requests-oauthlib>=0.4.0->twython) (3.1.1)\n",
            "Requirement already satisfied: six>=1.10.0 in /usr/local/lib/python3.7/dist-packages (from tweepy) (1.15.0)\n",
            "Requirement already satisfied: PySocks!=1.5.7,>=1.5.6 in /usr/local/lib/python3.7/dist-packages (from requests>=2.1.0->twython) (1.7.1)\n",
            "Requirement already satisfied: setuptools in /usr/local/lib/python3.7/dist-packages (from tika) (57.4.0)\n",
            "Building wheels for collected packages: tika\n",
            "  Building wheel for tika (setup.py) ... \u001b[?25l\u001b[?25hdone\n",
            "  Created wheel for tika: filename=tika-1.24-py3-none-any.whl size=32891 sha256=f44264ab5ccbf2653a39b3227eb1c115f9893291669aaf794bfd607e123a249d\n",
            "  Stored in directory: /root/.cache/pip/wheels/ec/2b/38/58ff05467a742e32f67f5d0de048fa046e764e2fbb25ac93f3\n",
            "Successfully built tika\n",
            "Installing collected packages: unidecode, twython, tika\n",
            "Successfully installed tika-1.24 twython-3.9.1 unidecode-1.3.2\n"
          ]
        }
      ]
    },
    {
      "cell_type": "code",
      "metadata": {
        "id": "jPhjt5v4-uP0"
      },
      "source": [
        "import warnings; warnings.simplefilter('ignore')\n",
        "import tweepy, json, nltk, urllib.request, requests\n",
        "from urllib.request import Request, urlopen\n",
        "from twython import TwythonStreamer\n",
        "from bs4 import BeautifulSoup as bs"
      ],
      "execution_count": 3,
      "outputs": []
    },
    {
      "cell_type": "code",
      "metadata": {
        "colab": {
          "base_uri": "https://localhost:8080/",
          "height": 35
        },
        "id": "YZxV-Ajl-zKS",
        "outputId": "c4060ca4-47be-46d3-e038-09d6d07575a3"
      },
      "source": [
        "# Contoh API Keys (Sesuaikan dengan API keys masing-masing)\n",
        "Ck = 'rDtBfQl2VzvKfpqGdA49DWp62' # consumer_key\n",
        "Cs = 'qFbbL60LAxJtpy6YiGMv7vwsSEl0mRnoOfCjHsivwY8VbrCBhI' # consumer_secret\n",
        "At = '1437538637927751682-hYNui6UzZOhyUjXy9sezv70bb5Nf1y' # access_token\n",
        "As = 'ocQ1kVOocqqHQTrCvDoZwKIyOwAj1KDjI9KKtKtKECl1T' # access_secret\n",
        "'Done'"
      ],
      "execution_count": 4,
      "outputs": [
        {
          "output_type": "execute_result",
          "data": {
            "application/vnd.google.colaboratory.intrinsic+json": {
              "type": "string"
            },
            "text/plain": [
              "'Done'"
            ]
          },
          "metadata": {},
          "execution_count": 4
        }
      ]
    },
    {
      "cell_type": "code",
      "metadata": {
        "id": "VsuaZm9TCblE"
      },
      "source": [
        "def twitter_connect(Ck, Cs, At, As, verbose = 0):\n",
        "    try:\n",
        "        auth = tweepy.OAuthHandler(Ck, Cs)\n",
        "        auth.set_access_token(At, As)\n",
        "        twitter = tweepy.API(auth, timeout=120)\n",
        "        if verbose != 0:\n",
        "            user = twitter.verify_credentials()\n",
        "            print('Welcome \"%s\" you are now connected to twitter server' %user.name)\n",
        "        return twitter\n",
        "    except:\n",
        "        print(\"Connection failed, please check your API keys or connection\")\n",
        "        return None"
      ],
      "execution_count": 5,
      "outputs": []
    },
    {
      "cell_type": "code",
      "metadata": {
        "colab": {
          "base_uri": "https://localhost:8080/"
        },
        "id": "wFYnxZcnCiEY",
        "outputId": "75e1d4c1-a656-4ccb-ce53-6aa61a693e48"
      },
      "source": [
        "# Koneksi ke twitter\n",
        "twitter = twitter_connect(Ck, Cs, At, As, verbose = 1)"
      ],
      "execution_count": 6,
      "outputs": [
        {
          "output_type": "stream",
          "name": "stdout",
          "text": [
            "Connection failed, please check your API keys or connection\n"
          ]
        }
      ]
    },
    {
      "cell_type": "code",
      "metadata": {
        "id": "wT3iI_IlR3Ho"
      },
      "source": [
        "# Max 100 tweet per \"API call\"\n",
        "topic = 'psbb jakarta'\n",
        "N = 100 # jumlah tweet yang ingin diambil\n",
        "bahasa = 'id'\n",
        "T = twitter.search(q=topic, lang=bahasa, count=N, tweet_mode = 'extended')\n",
        "tweets = [t._json for t in T]\n",
        "print(' Berhasil mendapatkan {} tweets'.format(len(tweets)))"
      ],
      "execution_count": null,
      "outputs": []
    },
    {
      "cell_type": "code",
      "metadata": {
        "colab": {
          "base_uri": "https://localhost:8080/"
        },
        "id": "1QHvCdrWKixW",
        "outputId": "2794d269-fa98-4c7e-d8dd-8ead20ab5577"
      },
      "source": [
        "# Datanya berbentuk JSON\n",
        "tweets[0]['created_at'], tweets[0]['full_text'], "
      ],
      "execution_count": null,
      "outputs": [
        {
          "data": {
            "text/plain": [
              "('Sat Oct 16 19:29:17 +0000 2021',\n",
              " 'RT @Abel_Catlea: Keyakinan akan hari akhir itu gak harus nunggu mati dulu baru di yakini\\n\\n-------------\\nTitip: Antonsen maguire Ginting, Aj…')"
            ]
          },
          "execution_count": 596,
          "metadata": {},
          "output_type": "execute_result"
        }
      ]
    },
    {
      "cell_type": "code",
      "metadata": {
        "colab": {
          "base_uri": "https://localhost:8080/"
        },
        "id": "AtEcgWumKw-Z",
        "outputId": "ac25741c-6319-4d42-e373-7dc558d4ff35"
      },
      "source": [
        "tweets[0]"
      ],
      "execution_count": null,
      "outputs": [
        {
          "data": {
            "text/plain": [
              "{'contributors': None,\n",
              " 'coordinates': None,\n",
              " 'created_at': 'Sat Oct 16 19:29:17 +0000 2021',\n",
              " 'display_text_range': [0, 140],\n",
              " 'entities': {'hashtags': [],\n",
              "  'symbols': [],\n",
              "  'urls': [],\n",
              "  'user_mentions': [{'id': 1327660564613623810,\n",
              "    'id_str': '1327660564613623810',\n",
              "    'indices': [3, 15],\n",
              "    'name': 'Abel Catlea',\n",
              "    'screen_name': 'Abel_Catlea'}]},\n",
              " 'favorite_count': 0,\n",
              " 'favorited': False,\n",
              " 'full_text': 'RT @Abel_Catlea: Keyakinan akan hari akhir itu gak harus nunggu mati dulu baru di yakini\\n\\n-------------\\nTitip: Antonsen maguire Ginting, Aj…',\n",
              " 'geo': None,\n",
              " 'id': 1449457438780846080,\n",
              " 'id_str': '1449457438780846080',\n",
              " 'in_reply_to_screen_name': None,\n",
              " 'in_reply_to_status_id': None,\n",
              " 'in_reply_to_status_id_str': None,\n",
              " 'in_reply_to_user_id': None,\n",
              " 'in_reply_to_user_id_str': None,\n",
              " 'is_quote_status': False,\n",
              " 'lang': 'in',\n",
              " 'metadata': {'iso_language_code': 'in', 'result_type': 'recent'},\n",
              " 'place': None,\n",
              " 'retweet_count': 16,\n",
              " 'retweeted': False,\n",
              " 'retweeted_status': {'contributors': None,\n",
              "  'coordinates': None,\n",
              "  'created_at': 'Sat Oct 16 16:55:16 +0000 2021',\n",
              "  'display_text_range': [0, 152],\n",
              "  'entities': {'hashtags': [],\n",
              "   'media': [{'display_url': 'pic.twitter.com/tAQNkurWRq',\n",
              "     'expanded_url': 'https://twitter.com/Abel_Catlea/status/1449418680463409155/video/1',\n",
              "     'id': 1449418355765620743,\n",
              "     'id_str': '1449418355765620743',\n",
              "     'indices': [153, 176],\n",
              "     'media_url': 'http://pbs.twimg.com/ext_tw_video_thumb/1449418355765620743/pu/img/uSSUzpdxN2wY5Q7v.jpg',\n",
              "     'media_url_https': 'https://pbs.twimg.com/ext_tw_video_thumb/1449418355765620743/pu/img/uSSUzpdxN2wY5Q7v.jpg',\n",
              "     'sizes': {'large': {'h': 800, 'resize': 'fit', 'w': 640},\n",
              "      'medium': {'h': 800, 'resize': 'fit', 'w': 640},\n",
              "      'small': {'h': 680, 'resize': 'fit', 'w': 544},\n",
              "      'thumb': {'h': 150, 'resize': 'crop', 'w': 150}},\n",
              "     'type': 'photo',\n",
              "     'url': 'https://t.co/tAQNkurWRq'}],\n",
              "   'symbols': [],\n",
              "   'urls': [],\n",
              "   'user_mentions': []},\n",
              "  'extended_entities': {'media': [{'additional_media_info': {'monetizable': False},\n",
              "     'display_url': 'pic.twitter.com/tAQNkurWRq',\n",
              "     'expanded_url': 'https://twitter.com/Abel_Catlea/status/1449418680463409155/video/1',\n",
              "     'id': 1449418355765620743,\n",
              "     'id_str': '1449418355765620743',\n",
              "     'indices': [153, 176],\n",
              "     'media_url': 'http://pbs.twimg.com/ext_tw_video_thumb/1449418355765620743/pu/img/uSSUzpdxN2wY5Q7v.jpg',\n",
              "     'media_url_https': 'https://pbs.twimg.com/ext_tw_video_thumb/1449418355765620743/pu/img/uSSUzpdxN2wY5Q7v.jpg',\n",
              "     'sizes': {'large': {'h': 800, 'resize': 'fit', 'w': 640},\n",
              "      'medium': {'h': 800, 'resize': 'fit', 'w': 640},\n",
              "      'small': {'h': 680, 'resize': 'fit', 'w': 544},\n",
              "      'thumb': {'h': 150, 'resize': 'crop', 'w': 150}},\n",
              "     'type': 'video',\n",
              "     'url': 'https://t.co/tAQNkurWRq',\n",
              "     'video_info': {'aspect_ratio': [4, 5],\n",
              "      'duration_millis': 37778,\n",
              "      'variants': [{'bitrate': 632000,\n",
              "        'content_type': 'video/mp4',\n",
              "        'url': 'https://video.twimg.com/ext_tw_video/1449418355765620743/pu/vid/320x400/3L9qBQ9U02dBeH2p.mp4?tag=12'},\n",
              "       {'bitrate': 2176000,\n",
              "        'content_type': 'video/mp4',\n",
              "        'url': 'https://video.twimg.com/ext_tw_video/1449418355765620743/pu/vid/640x800/6L3pf717-w180VzU.mp4?tag=12'},\n",
              "       {'bitrate': 950000,\n",
              "        'content_type': 'video/mp4',\n",
              "        'url': 'https://video.twimg.com/ext_tw_video/1449418355765620743/pu/vid/480x600/QsoN4i3DFTMQMd4V.mp4?tag=12'},\n",
              "       {'content_type': 'application/x-mpegURL',\n",
              "        'url': 'https://video.twimg.com/ext_tw_video/1449418355765620743/pu/pl/QWFtxb0BfHk9UDSU.m3u8?tag=12&container=fmp4'}]}}]},\n",
              "  'favorite_count': 41,\n",
              "  'favorited': False,\n",
              "  'full_text': 'Keyakinan akan hari akhir itu gak harus nunggu mati dulu baru di yakini\\n\\n-------------\\nTitip: Antonsen maguire Ginting, Ajay, Fajar, Satpam BCA, Malming https://t.co/tAQNkurWRq',\n",
              "  'geo': None,\n",
              "  'id': 1449418680463409155,\n",
              "  'id_str': '1449418680463409155',\n",
              "  'in_reply_to_screen_name': None,\n",
              "  'in_reply_to_status_id': None,\n",
              "  'in_reply_to_status_id_str': None,\n",
              "  'in_reply_to_user_id': None,\n",
              "  'in_reply_to_user_id_str': None,\n",
              "  'is_quote_status': False,\n",
              "  'lang': 'in',\n",
              "  'metadata': {'iso_language_code': 'in', 'result_type': 'recent'},\n",
              "  'place': None,\n",
              "  'possibly_sensitive': False,\n",
              "  'retweet_count': 16,\n",
              "  'retweeted': False,\n",
              "  'source': '<a href=\"http://twitter.com/download/android\" rel=\"nofollow\">Twitter for Android</a>',\n",
              "  'truncated': False,\n",
              "  'user': {'contributors_enabled': False,\n",
              "   'created_at': 'Sat Nov 14 17:12:33 +0000 2020',\n",
              "   'default_profile': True,\n",
              "   'default_profile_image': False,\n",
              "   'description': \"I'am the rainbow🌈 on the rainy day 🌧\\n\\nNew Akun\",\n",
              "   'entities': {'description': {'urls': []}},\n",
              "   'favourites_count': 6148,\n",
              "   'follow_request_sent': False,\n",
              "   'followers_count': 868,\n",
              "   'following': False,\n",
              "   'friends_count': 181,\n",
              "   'geo_enabled': False,\n",
              "   'has_extended_profile': True,\n",
              "   'id': 1327660564613623810,\n",
              "   'id_str': '1327660564613623810',\n",
              "   'is_translation_enabled': False,\n",
              "   'is_translator': False,\n",
              "   'lang': None,\n",
              "   'listed_count': 0,\n",
              "   'location': '',\n",
              "   'name': 'Abel Catlea',\n",
              "   'notifications': False,\n",
              "   'profile_background_color': 'F5F8FA',\n",
              "   'profile_background_image_url': None,\n",
              "   'profile_background_image_url_https': None,\n",
              "   'profile_background_tile': False,\n",
              "   'profile_banner_url': 'https://pbs.twimg.com/profile_banners/1327660564613623810/1605380643',\n",
              "   'profile_image_url': 'http://pbs.twimg.com/profile_images/1327688781818781696/Cr_T8XIY_normal.jpg',\n",
              "   'profile_image_url_https': 'https://pbs.twimg.com/profile_images/1327688781818781696/Cr_T8XIY_normal.jpg',\n",
              "   'profile_link_color': '1DA1F2',\n",
              "   'profile_sidebar_border_color': 'C0DEED',\n",
              "   'profile_sidebar_fill_color': 'DDEEF6',\n",
              "   'profile_text_color': '333333',\n",
              "   'profile_use_background_image': True,\n",
              "   'protected': False,\n",
              "   'screen_name': 'Abel_Catlea',\n",
              "   'statuses_count': 1458,\n",
              "   'time_zone': None,\n",
              "   'translator_type': 'none',\n",
              "   'url': None,\n",
              "   'utc_offset': None,\n",
              "   'verified': False,\n",
              "   'withheld_in_countries': []}},\n",
              " 'source': '<a href=\"http://twitter.com/download/android\" rel=\"nofollow\">Twitter for Android</a>',\n",
              " 'truncated': False,\n",
              " 'user': {'contributors_enabled': False,\n",
              "  'created_at': 'Mon Jul 05 08:13:52 +0000 2010',\n",
              "  'default_profile': False,\n",
              "  'default_profile_image': False,\n",
              "  'description': 'Hanya untuk corat coret dan mengeluarkan keresahan.\\n-kang cilok-',\n",
              "  'entities': {'description': {'urls': []},\n",
              "   'url': {'urls': [{'display_url': 'facebook.com/aggust',\n",
              "      'expanded_url': 'http://facebook.com/aggust',\n",
              "      'indices': [0, 23],\n",
              "      'url': 'https://t.co/nvYJnAtFaV'}]}},\n",
              "  'favourites_count': 299,\n",
              "  'follow_request_sent': False,\n",
              "  'followers_count': 49,\n",
              "  'following': False,\n",
              "  'friends_count': 105,\n",
              "  'geo_enabled': True,\n",
              "  'has_extended_profile': False,\n",
              "  'id': 163000768,\n",
              "  'id_str': '163000768',\n",
              "  'is_translation_enabled': False,\n",
              "  'is_translator': False,\n",
              "  'lang': None,\n",
              "  'listed_count': 0,\n",
              "  'location': 'Yalwan Damai, Nigeria',\n",
              "  'name': 'Armstrong Boy',\n",
              "  'notifications': False,\n",
              "  'profile_background_color': '000000',\n",
              "  'profile_background_image_url': 'http://abs.twimg.com/images/themes/theme1/bg.png',\n",
              "  'profile_background_image_url_https': 'https://abs.twimg.com/images/themes/theme1/bg.png',\n",
              "  'profile_background_tile': True,\n",
              "  'profile_banner_url': 'https://pbs.twimg.com/profile_banners/163000768/1609008596',\n",
              "  'profile_image_url': 'http://pbs.twimg.com/profile_images/1439503564317990916/8iw5BNbI_normal.jpg',\n",
              "  'profile_image_url_https': 'https://pbs.twimg.com/profile_images/1439503564317990916/8iw5BNbI_normal.jpg',\n",
              "  'profile_link_color': 'B8890F',\n",
              "  'profile_sidebar_border_color': 'FFFFFF',\n",
              "  'profile_sidebar_fill_color': '000000',\n",
              "  'profile_text_color': 'A8A8A8',\n",
              "  'profile_use_background_image': True,\n",
              "  'protected': False,\n",
              "  'screen_name': 'Apologuzz',\n",
              "  'statuses_count': 1381,\n",
              "  'time_zone': None,\n",
              "  'translator_type': 'none',\n",
              "  'url': 'https://t.co/nvYJnAtFaV',\n",
              "  'utc_offset': None,\n",
              "  'verified': False,\n",
              "  'withheld_in_countries': []}}"
            ]
          },
          "execution_count": 597,
          "metadata": {},
          "output_type": "execute_result"
        }
      ]
    },
    {
      "cell_type": "code",
      "metadata": {
        "colab": {
          "base_uri": "https://localhost:8080/"
        },
        "id": "3XnKS61_K1rK",
        "outputId": "b5c725a0-8aea-4a62-91ed-9210a15a2d1b"
      },
      "source": [
        "# Contoh mengakses data spesifik pada tweet yang pertama:\n",
        "print('tweet pertama oleh \"{}\" : \"{}\"'.format(tweets[0]['user']['screen_name'],tweets[0]['full_text']))"
      ],
      "execution_count": null,
      "outputs": [
        {
          "name": "stdout",
          "output_type": "stream",
          "text": [
            "tweet pertama oleh \"Apologuzz\" : \"RT @Abel_Catlea: Keyakinan akan hari akhir itu gak harus nunggu mati dulu baru di yakini\n",
            "\n",
            "-------------\n",
            "Titip: Antonsen maguire Ginting, Aj…\"\n"
          ]
        }
      ]
    },
    {
      "cell_type": "code",
      "metadata": {
        "colab": {
          "base_uri": "https://localhost:8080/"
        },
        "id": "rTIuIv4WLRvI",
        "outputId": "39ff9361-ab56-46c3-f6a2-3a0a533568c3"
      },
      "source": [
        "# Next data\n",
        "last_id = T[-1]._json['id'] - 1\n",
        "last_id\n",
        "T = twitter.search(q=topic, lang=bahasa, count=N, tweet_mode = 'extended', max_id=last_id)\n",
        "tweets.extend([t._json for t in T])\n",
        "\n",
        "print('Jumlah data sekarang = ', len(tweets))"
      ],
      "execution_count": null,
      "outputs": [
        {
          "name": "stdout",
          "output_type": "stream",
          "text": [
            "Jumlah data sekarang =  18283\n"
          ]
        }
      ]
    },
    {
      "cell_type": "code",
      "metadata": {
        "id": "sh2MUpbVYGQB"
      },
      "source": [
        "def saveTweets(tweets, file='data/tweets.json'): #in Json Format\n",
        "    with open(file, 'w') as f:\n",
        "        for t in tweets:\n",
        "            try:\n",
        "                f.write(json.dumps(t)+'\\n')\n",
        "            except:\n",
        "                pass"
      ],
      "execution_count": 9,
      "outputs": []
    },
    {
      "cell_type": "code",
      "metadata": {
        "id": "qZ5tkgKKSPRK"
      },
      "source": [
        "# Menyimpan hasil crawling twitter\n",
        "fileName = 'tugaskapsell2.json'\n",
        "saveTweet(tweet,file=fileName)\n",
        "print('Saved to '+fileName)"
      ],
      "execution_count": null,
      "outputs": []
    }
  ]
}